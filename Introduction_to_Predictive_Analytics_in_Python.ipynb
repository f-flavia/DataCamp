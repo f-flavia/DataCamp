{
  "nbformat": 4,
  "nbformat_minor": 0,
  "metadata": {
    "colab": {
      "provenance": [],
      "authorship_tag": "ABX9TyMfgQr6I11q23Cv4mEsjy+K",
      "include_colab_link": true
    },
    "kernelspec": {
      "name": "python3",
      "display_name": "Python 3"
    },
    "language_info": {
      "name": "python"
    }
  },
  "cells": [
    {
      "cell_type": "markdown",
      "metadata": {
        "id": "view-in-github",
        "colab_type": "text"
      },
      "source": [
        "<a href=\"https://colab.research.google.com/github/f-flavia/DataCamp/blob/main/Introduction_to_Predictive_Analytics_in_Python.ipynb\" target=\"_parent\"><img src=\"https://colab.research.google.com/assets/colab-badge.svg\" alt=\"Open In Colab\"/></a>"
      ]
    },
    {
      "cell_type": "markdown",
      "source": [
        "#### Structure of the base table\n",
        "\n",
        "Consider the predictive modeling problem where you want to predict whether a candidate donor will make a donation in the next year. To build the model, you use historical data and calculate the target in 2017. The target is 1 if a donation is made in 2017 and 0 otherwise. Below, the first lines of the base table are given. It contains the number of donations made in 2016, the number of donations made in 2017, the age of the donor and the target. Which columns can be used as candidate predictors?\n",
        "\n",
        "Donations 2016\tDonations 2017\tAge\tDonation in 2017 (target)\n",
        "\n",
        "5 2\t68\t1\n",
        "\n",
        "3\t0\t65\t0\n",
        "\n",
        "2\t0\t23\t0\n",
        "\n",
        "8\t6\t56\t1\n",
        "\n",
        "\n",
        "Donations 2016 and Age.\n",
        "\n",
        "Only information before 2017 can be used."
      ],
      "metadata": {
        "id": "mW-nGMtz-Pfo"
      }
    },
    {
      "cell_type": "markdown",
      "source": [
        "#### Exploring the base table\n",
        "\n",
        "Before diving into model building, it is important to understand the data you are working with. In this exercise, you will learn how to obtain the population size, number of targets and target incidence from a given basetable."
      ],
      "metadata": {
        "id": "9R_mmR0A-zFH"
      }
    },
    {
      "cell_type": "code",
      "source": [
        "import pandas as pd\n",
        "import numpy as np"
      ],
      "metadata": {
        "id": "fkYLK-SD_nmi"
      },
      "execution_count": 41,
      "outputs": []
    },
    {
      "cell_type": "code",
      "execution_count": 42,
      "metadata": {
        "colab": {
          "base_uri": "https://localhost:8080/",
          "height": 270
        },
        "id": "2z31tbaJ7Hck",
        "outputId": "0aefc0c0-0350-45b6-ab6f-328e10472368"
      },
      "outputs": [
        {
          "output_type": "execute_result",
          "data": {
            "text/plain": [
              "   target  gender_F  income_high  income_low  country_USA  country_India  \\\n",
              "0       0         1            0           1            0              1   \n",
              "1       0         1            0           0            0              1   \n",
              "2       0         1            0           0            0              1   \n",
              "3       0         1            0           1            1              0   \n",
              "4       0         1            1           0            1              0   \n",
              "\n",
              "   country_UK  age  time_since_last_gift  time_since_first_gift  max_gift  \\\n",
              "0           0   65                   530                   2265     166.0   \n",
              "1           0   71                   715                    715      90.0   \n",
              "2           0   28                   150                   1806     125.0   \n",
              "3           0   52                   725                   2274     117.0   \n",
              "4           0   82                   805                    805      80.0   \n",
              "\n",
              "   min_gift  mean_gift  number_gift  \n",
              "0      87.0     116.00            7  \n",
              "1      90.0      90.00            1  \n",
              "2      74.0      96.00            9  \n",
              "3      97.0     104.25            4  \n",
              "4      80.0      80.00            1  "
            ],
            "text/html": [
              "\n",
              "  <div id=\"df-e6ff2bac-12e7-4d8b-8785-369a77aadecf\">\n",
              "    <div class=\"colab-df-container\">\n",
              "      <div>\n",
              "<style scoped>\n",
              "    .dataframe tbody tr th:only-of-type {\n",
              "        vertical-align: middle;\n",
              "    }\n",
              "\n",
              "    .dataframe tbody tr th {\n",
              "        vertical-align: top;\n",
              "    }\n",
              "\n",
              "    .dataframe thead th {\n",
              "        text-align: right;\n",
              "    }\n",
              "</style>\n",
              "<table border=\"1\" class=\"dataframe\">\n",
              "  <thead>\n",
              "    <tr style=\"text-align: right;\">\n",
              "      <th></th>\n",
              "      <th>target</th>\n",
              "      <th>gender_F</th>\n",
              "      <th>income_high</th>\n",
              "      <th>income_low</th>\n",
              "      <th>country_USA</th>\n",
              "      <th>country_India</th>\n",
              "      <th>country_UK</th>\n",
              "      <th>age</th>\n",
              "      <th>time_since_last_gift</th>\n",
              "      <th>time_since_first_gift</th>\n",
              "      <th>max_gift</th>\n",
              "      <th>min_gift</th>\n",
              "      <th>mean_gift</th>\n",
              "      <th>number_gift</th>\n",
              "    </tr>\n",
              "  </thead>\n",
              "  <tbody>\n",
              "    <tr>\n",
              "      <th>0</th>\n",
              "      <td>0</td>\n",
              "      <td>1</td>\n",
              "      <td>0</td>\n",
              "      <td>1</td>\n",
              "      <td>0</td>\n",
              "      <td>1</td>\n",
              "      <td>0</td>\n",
              "      <td>65</td>\n",
              "      <td>530</td>\n",
              "      <td>2265</td>\n",
              "      <td>166.0</td>\n",
              "      <td>87.0</td>\n",
              "      <td>116.00</td>\n",
              "      <td>7</td>\n",
              "    </tr>\n",
              "    <tr>\n",
              "      <th>1</th>\n",
              "      <td>0</td>\n",
              "      <td>1</td>\n",
              "      <td>0</td>\n",
              "      <td>0</td>\n",
              "      <td>0</td>\n",
              "      <td>1</td>\n",
              "      <td>0</td>\n",
              "      <td>71</td>\n",
              "      <td>715</td>\n",
              "      <td>715</td>\n",
              "      <td>90.0</td>\n",
              "      <td>90.0</td>\n",
              "      <td>90.00</td>\n",
              "      <td>1</td>\n",
              "    </tr>\n",
              "    <tr>\n",
              "      <th>2</th>\n",
              "      <td>0</td>\n",
              "      <td>1</td>\n",
              "      <td>0</td>\n",
              "      <td>0</td>\n",
              "      <td>0</td>\n",
              "      <td>1</td>\n",
              "      <td>0</td>\n",
              "      <td>28</td>\n",
              "      <td>150</td>\n",
              "      <td>1806</td>\n",
              "      <td>125.0</td>\n",
              "      <td>74.0</td>\n",
              "      <td>96.00</td>\n",
              "      <td>9</td>\n",
              "    </tr>\n",
              "    <tr>\n",
              "      <th>3</th>\n",
              "      <td>0</td>\n",
              "      <td>1</td>\n",
              "      <td>0</td>\n",
              "      <td>1</td>\n",
              "      <td>1</td>\n",
              "      <td>0</td>\n",
              "      <td>0</td>\n",
              "      <td>52</td>\n",
              "      <td>725</td>\n",
              "      <td>2274</td>\n",
              "      <td>117.0</td>\n",
              "      <td>97.0</td>\n",
              "      <td>104.25</td>\n",
              "      <td>4</td>\n",
              "    </tr>\n",
              "    <tr>\n",
              "      <th>4</th>\n",
              "      <td>0</td>\n",
              "      <td>1</td>\n",
              "      <td>1</td>\n",
              "      <td>0</td>\n",
              "      <td>1</td>\n",
              "      <td>0</td>\n",
              "      <td>0</td>\n",
              "      <td>82</td>\n",
              "      <td>805</td>\n",
              "      <td>805</td>\n",
              "      <td>80.0</td>\n",
              "      <td>80.0</td>\n",
              "      <td>80.00</td>\n",
              "      <td>1</td>\n",
              "    </tr>\n",
              "  </tbody>\n",
              "</table>\n",
              "</div>\n",
              "      <button class=\"colab-df-convert\" onclick=\"convertToInteractive('df-e6ff2bac-12e7-4d8b-8785-369a77aadecf')\"\n",
              "              title=\"Convert this dataframe to an interactive table.\"\n",
              "              style=\"display:none;\">\n",
              "        \n",
              "  <svg xmlns=\"http://www.w3.org/2000/svg\" height=\"24px\"viewBox=\"0 0 24 24\"\n",
              "       width=\"24px\">\n",
              "    <path d=\"M0 0h24v24H0V0z\" fill=\"none\"/>\n",
              "    <path d=\"M18.56 5.44l.94 2.06.94-2.06 2.06-.94-2.06-.94-.94-2.06-.94 2.06-2.06.94zm-11 1L8.5 8.5l.94-2.06 2.06-.94-2.06-.94L8.5 2.5l-.94 2.06-2.06.94zm10 10l.94 2.06.94-2.06 2.06-.94-2.06-.94-.94-2.06-.94 2.06-2.06.94z\"/><path d=\"M17.41 7.96l-1.37-1.37c-.4-.4-.92-.59-1.43-.59-.52 0-1.04.2-1.43.59L10.3 9.45l-7.72 7.72c-.78.78-.78 2.05 0 2.83L4 21.41c.39.39.9.59 1.41.59.51 0 1.02-.2 1.41-.59l7.78-7.78 2.81-2.81c.8-.78.8-2.07 0-2.86zM5.41 20L4 18.59l7.72-7.72 1.47 1.35L5.41 20z\"/>\n",
              "  </svg>\n",
              "      </button>\n",
              "      \n",
              "  <style>\n",
              "    .colab-df-container {\n",
              "      display:flex;\n",
              "      flex-wrap:wrap;\n",
              "      gap: 12px;\n",
              "    }\n",
              "\n",
              "    .colab-df-convert {\n",
              "      background-color: #E8F0FE;\n",
              "      border: none;\n",
              "      border-radius: 50%;\n",
              "      cursor: pointer;\n",
              "      display: none;\n",
              "      fill: #1967D2;\n",
              "      height: 32px;\n",
              "      padding: 0 0 0 0;\n",
              "      width: 32px;\n",
              "    }\n",
              "\n",
              "    .colab-df-convert:hover {\n",
              "      background-color: #E2EBFA;\n",
              "      box-shadow: 0px 1px 2px rgba(60, 64, 67, 0.3), 0px 1px 3px 1px rgba(60, 64, 67, 0.15);\n",
              "      fill: #174EA6;\n",
              "    }\n",
              "\n",
              "    [theme=dark] .colab-df-convert {\n",
              "      background-color: #3B4455;\n",
              "      fill: #D2E3FC;\n",
              "    }\n",
              "\n",
              "    [theme=dark] .colab-df-convert:hover {\n",
              "      background-color: #434B5C;\n",
              "      box-shadow: 0px 1px 3px 1px rgba(0, 0, 0, 0.15);\n",
              "      filter: drop-shadow(0px 1px 2px rgba(0, 0, 0, 0.3));\n",
              "      fill: #FFFFFF;\n",
              "    }\n",
              "  </style>\n",
              "\n",
              "      <script>\n",
              "        const buttonEl =\n",
              "          document.querySelector('#df-e6ff2bac-12e7-4d8b-8785-369a77aadecf button.colab-df-convert');\n",
              "        buttonEl.style.display =\n",
              "          google.colab.kernel.accessAllowed ? 'block' : 'none';\n",
              "\n",
              "        async function convertToInteractive(key) {\n",
              "          const element = document.querySelector('#df-e6ff2bac-12e7-4d8b-8785-369a77aadecf');\n",
              "          const dataTable =\n",
              "            await google.colab.kernel.invokeFunction('convertToInteractive',\n",
              "                                                     [key], {});\n",
              "          if (!dataTable) return;\n",
              "\n",
              "          const docLinkHtml = 'Like what you see? Visit the ' +\n",
              "            '<a target=\"_blank\" href=https://colab.research.google.com/notebooks/data_table.ipynb>data table notebook</a>'\n",
              "            + ' to learn more about interactive tables.';\n",
              "          element.innerHTML = '';\n",
              "          dataTable['output_type'] = 'display_data';\n",
              "          await google.colab.output.renderOutput(dataTable, element);\n",
              "          const docLink = document.createElement('div');\n",
              "          docLink.innerHTML = docLinkHtml;\n",
              "          element.appendChild(docLink);\n",
              "        }\n",
              "      </script>\n",
              "    </div>\n",
              "  </div>\n",
              "  "
            ]
          },
          "metadata": {},
          "execution_count": 42
        }
      ],
      "source": [
        "# Import data\n",
        "basetable = pd.read_csv('example_basetable.csv')\n",
        "basetable.head()\n"
      ]
    },
    {
      "cell_type": "code",
      "source": [
        "basetable.info()"
      ],
      "metadata": {
        "colab": {
          "base_uri": "https://localhost:8080/"
        },
        "id": "Zz5vgXaZCk43",
        "outputId": "d69e5a0d-9cc6-4f95-d1c1-ba406d9c2833"
      },
      "execution_count": 43,
      "outputs": [
        {
          "output_type": "stream",
          "name": "stdout",
          "text": [
            "<class 'pandas.core.frame.DataFrame'>\n",
            "RangeIndex: 25000 entries, 0 to 24999\n",
            "Data columns (total 14 columns):\n",
            " #   Column                 Non-Null Count  Dtype  \n",
            "---  ------                 --------------  -----  \n",
            " 0   target                 25000 non-null  int64  \n",
            " 1   gender_F               25000 non-null  int64  \n",
            " 2   income_high            25000 non-null  int64  \n",
            " 3   income_low             25000 non-null  int64  \n",
            " 4   country_USA            25000 non-null  int64  \n",
            " 5   country_India          25000 non-null  int64  \n",
            " 6   country_UK             25000 non-null  int64  \n",
            " 7   age                    25000 non-null  int64  \n",
            " 8   time_since_last_gift   25000 non-null  int64  \n",
            " 9   time_since_first_gift  25000 non-null  int64  \n",
            " 10  max_gift               25000 non-null  float64\n",
            " 11  min_gift               25000 non-null  float64\n",
            " 12  mean_gift              25000 non-null  float64\n",
            " 13  number_gift            25000 non-null  int64  \n",
            "dtypes: float64(3), int64(11)\n",
            "memory usage: 2.7 MB\n"
          ]
        }
      ]
    },
    {
      "cell_type": "code",
      "source": [
        "# Assign the number of rows in the basetable to the variable 'population_size'.\n",
        "population_size  = len(basetable)\n",
        "\n",
        "# Print the population size.\n",
        "print(population_size)\n",
        "\n",
        "# Assign the number of targets to the variable 'targets_count'.\n",
        "targets_count = sum(basetable['target'])\n",
        "\n",
        "# Print the number of targets.\n",
        "print(targets_count)\n",
        "\n",
        "# Print the target incidence.\n",
        "print(targets_count / population_size)"
      ],
      "metadata": {
        "colab": {
          "base_uri": "https://localhost:8080/"
        },
        "id": "ryQLIAQTCW3w",
        "outputId": "1e693e01-1e40-4d4b-99c1-e000c5318406"
      },
      "execution_count": 44,
      "outputs": [
        {
          "output_type": "stream",
          "name": "stdout",
          "text": [
            "25000\n",
            "1187\n",
            "0.04748\n"
          ]
        }
      ]
    },
    {
      "cell_type": "markdown",
      "source": [
        "As in many real world predictive modeling cases, the incidence is rather low. This makes model building challenging!"
      ],
      "metadata": {
        "id": "j84g2G99Cz76"
      }
    },
    {
      "cell_type": "markdown",
      "source": [
        "#### Exploring the predictive variables\n",
        "\n",
        "It is always useful to get a better understanding of the population. Therefore, one can have a closer look at the predictive variables. Recall that you can select a column in a pandas DataFrame by indexing as follows:\n",
        "\n",
        "basetable[\"variable\"]\n",
        "\n",
        "To count the number of occurrences of a certain value in a column, you can use the sum method:\n",
        "\n",
        "sum(basetable[\"variable\"]==value)\n",
        "\n",
        "In this exercise you will find out whether there are more males than females in the population."
      ],
      "metadata": {
        "id": "MptWNm5BC414"
      }
    },
    {
      "cell_type": "code",
      "source": [
        "# Count and print the number of females.\n",
        "print(len(basetable[basetable['gender_F'] == 1]))\n",
        "\n",
        "\n",
        "# Count and print the number of males.\n",
        "print(len(basetable[basetable['gender_F'] == 0]))"
      ],
      "metadata": {
        "colab": {
          "base_uri": "https://localhost:8080/"
        },
        "id": "Z-y4vRl9DF6l",
        "outputId": "781178bb-d52a-41fd-cce9-9ad3a0247519"
      },
      "execution_count": 45,
      "outputs": [
        {
          "output_type": "stream",
          "name": "stdout",
          "text": [
            "12579\n",
            "12421\n"
          ]
        }
      ]
    },
    {
      "cell_type": "markdown",
      "source": [
        "From these results, you can see that there are more females in the basetable."
      ],
      "metadata": {
        "id": "zZ-vhR0tDfjd"
      }
    },
    {
      "cell_type": "markdown",
      "source": [
        "#### Interpretation of coefficients\n",
        "\n",
        "Assume you built a logistic regression model to predict which donors are most likely to donate for a project, using age and time_since_last_gift (number of months since the last gift) as predictors. The output of the logistic regression model is as follows:\n",
        "\n",
        "y = 0.3 + 4.5*age - 2.3*time_since_last_gift\n",
        "\n",
        "Which of the following statements holds, according to the model?\n",
        "\n",
        "Older donors that recently donated are most likely to donate.\n",
        "\n",
        "By looking at the coefficients you can see that age is positively correlated with the target, and time since last gift negatively."
      ],
      "metadata": {
        "id": "BsBJG1wsEsl-"
      }
    },
    {
      "cell_type": "markdown",
      "source": [
        "#### Building a logistic regression model\n",
        "\n",
        "You can build a logistic regression model using the module linear_model from sklearn. First, you create a logistic regression model using the LogisticRegression() method:\n",
        "\n",
        "logreg = linear_model.LogisticRegression()\n",
        "\n",
        "Next, you need to feed data to the logistic regression model, so that it can be fit. X contains the predictive variables, whereas y has the target.\n",
        "\n",
        "X = basetable[[\"predictor_1\",\"predictor_2\",\"predictor_3\"]]`\n",
        "\n",
        "y = basetable[[\"target\"]]\n",
        "\n",
        "logreg.fit(X,y)\n",
        "\n",
        "In this exercise you will build your first predictive model using three predictors."
      ],
      "metadata": {
        "id": "pssaKRhNFE5B"
      }
    },
    {
      "cell_type": "code",
      "source": [
        "# Import linear_model from sklearn.\n",
        "from sklearn import linear_model\n",
        "\n",
        "# Create a DataFrame X that only contains the candidate predictors age, gender_F and time_since_last_gift.\n",
        "X = basetable[['age', 'gender_F', 'time_since_last_gift']]\n",
        "\n",
        "# Create a DataFrame y that contains the target.\n",
        "y = basetable[['target']]\n",
        "\n",
        "# Create a logistic regression model logreg and fit it to the data.\n",
        "logreg = linear_model.LogisticRegression()\n",
        "logreg.fit(X,y)"
      ],
      "metadata": {
        "colab": {
          "base_uri": "https://localhost:8080/",
          "height": 129
        },
        "id": "eKVLp6XWL0f-",
        "outputId": "cf786a58-7053-4b46-af18-db3a7985d4a0"
      },
      "execution_count": 46,
      "outputs": [
        {
          "output_type": "stream",
          "name": "stderr",
          "text": [
            "/usr/local/lib/python3.10/dist-packages/sklearn/utils/validation.py:1143: DataConversionWarning: A column-vector y was passed when a 1d array was expected. Please change the shape of y to (n_samples, ), for example using ravel().\n",
            "  y = column_or_1d(y, warn=True)\n"
          ]
        },
        {
          "output_type": "execute_result",
          "data": {
            "text/plain": [
              "LogisticRegression()"
            ],
            "text/html": [
              "<style>#sk-container-id-2 {color: black;background-color: white;}#sk-container-id-2 pre{padding: 0;}#sk-container-id-2 div.sk-toggleable {background-color: white;}#sk-container-id-2 label.sk-toggleable__label {cursor: pointer;display: block;width: 100%;margin-bottom: 0;padding: 0.3em;box-sizing: border-box;text-align: center;}#sk-container-id-2 label.sk-toggleable__label-arrow:before {content: \"▸\";float: left;margin-right: 0.25em;color: #696969;}#sk-container-id-2 label.sk-toggleable__label-arrow:hover:before {color: black;}#sk-container-id-2 div.sk-estimator:hover label.sk-toggleable__label-arrow:before {color: black;}#sk-container-id-2 div.sk-toggleable__content {max-height: 0;max-width: 0;overflow: hidden;text-align: left;background-color: #f0f8ff;}#sk-container-id-2 div.sk-toggleable__content pre {margin: 0.2em;color: black;border-radius: 0.25em;background-color: #f0f8ff;}#sk-container-id-2 input.sk-toggleable__control:checked~div.sk-toggleable__content {max-height: 200px;max-width: 100%;overflow: auto;}#sk-container-id-2 input.sk-toggleable__control:checked~label.sk-toggleable__label-arrow:before {content: \"▾\";}#sk-container-id-2 div.sk-estimator input.sk-toggleable__control:checked~label.sk-toggleable__label {background-color: #d4ebff;}#sk-container-id-2 div.sk-label input.sk-toggleable__control:checked~label.sk-toggleable__label {background-color: #d4ebff;}#sk-container-id-2 input.sk-hidden--visually {border: 0;clip: rect(1px 1px 1px 1px);clip: rect(1px, 1px, 1px, 1px);height: 1px;margin: -1px;overflow: hidden;padding: 0;position: absolute;width: 1px;}#sk-container-id-2 div.sk-estimator {font-family: monospace;background-color: #f0f8ff;border: 1px dotted black;border-radius: 0.25em;box-sizing: border-box;margin-bottom: 0.5em;}#sk-container-id-2 div.sk-estimator:hover {background-color: #d4ebff;}#sk-container-id-2 div.sk-parallel-item::after {content: \"\";width: 100%;border-bottom: 1px solid gray;flex-grow: 1;}#sk-container-id-2 div.sk-label:hover label.sk-toggleable__label {background-color: #d4ebff;}#sk-container-id-2 div.sk-serial::before {content: \"\";position: absolute;border-left: 1px solid gray;box-sizing: border-box;top: 0;bottom: 0;left: 50%;z-index: 0;}#sk-container-id-2 div.sk-serial {display: flex;flex-direction: column;align-items: center;background-color: white;padding-right: 0.2em;padding-left: 0.2em;position: relative;}#sk-container-id-2 div.sk-item {position: relative;z-index: 1;}#sk-container-id-2 div.sk-parallel {display: flex;align-items: stretch;justify-content: center;background-color: white;position: relative;}#sk-container-id-2 div.sk-item::before, #sk-container-id-2 div.sk-parallel-item::before {content: \"\";position: absolute;border-left: 1px solid gray;box-sizing: border-box;top: 0;bottom: 0;left: 50%;z-index: -1;}#sk-container-id-2 div.sk-parallel-item {display: flex;flex-direction: column;z-index: 1;position: relative;background-color: white;}#sk-container-id-2 div.sk-parallel-item:first-child::after {align-self: flex-end;width: 50%;}#sk-container-id-2 div.sk-parallel-item:last-child::after {align-self: flex-start;width: 50%;}#sk-container-id-2 div.sk-parallel-item:only-child::after {width: 0;}#sk-container-id-2 div.sk-dashed-wrapped {border: 1px dashed gray;margin: 0 0.4em 0.5em 0.4em;box-sizing: border-box;padding-bottom: 0.4em;background-color: white;}#sk-container-id-2 div.sk-label label {font-family: monospace;font-weight: bold;display: inline-block;line-height: 1.2em;}#sk-container-id-2 div.sk-label-container {text-align: center;}#sk-container-id-2 div.sk-container {/* jupyter's `normalize.less` sets `[hidden] { display: none; }` but bootstrap.min.css set `[hidden] { display: none !important; }` so we also need the `!important` here to be able to override the default hidden behavior on the sphinx rendered scikit-learn.org. See: https://github.com/scikit-learn/scikit-learn/issues/21755 */display: inline-block !important;position: relative;}#sk-container-id-2 div.sk-text-repr-fallback {display: none;}</style><div id=\"sk-container-id-2\" class=\"sk-top-container\"><div class=\"sk-text-repr-fallback\"><pre>LogisticRegression()</pre><b>In a Jupyter environment, please rerun this cell to show the HTML representation or trust the notebook. <br />On GitHub, the HTML representation is unable to render, please try loading this page with nbviewer.org.</b></div><div class=\"sk-container\" hidden><div class=\"sk-item\"><div class=\"sk-estimator sk-toggleable\"><input class=\"sk-toggleable__control sk-hidden--visually\" id=\"sk-estimator-id-2\" type=\"checkbox\" checked><label for=\"sk-estimator-id-2\" class=\"sk-toggleable__label sk-toggleable__label-arrow\">LogisticRegression</label><div class=\"sk-toggleable__content\"><pre>LogisticRegression()</pre></div></div></div></div></div>"
            ]
          },
          "metadata": {},
          "execution_count": 46
        }
      ]
    },
    {
      "cell_type": "markdown",
      "source": [
        "#### Showing the coefficients and intercept\n",
        "Once the logistic regression model is ready, it can be interesting to have a look at the coefficients to check whether the model makes sense.\n",
        "\n",
        "Given a fitted logistic regression model logreg, you can retrieve the coefficients using the attribute coef_. The order in which the coefficients appear, is the same as the order in which the variables were fed to the model. The intercept can be retrieved using the attribute intercept_."
      ],
      "metadata": {
        "id": "G9_Z_xtFUs4U"
      }
    },
    {
      "cell_type": "code",
      "source": [
        "# Construct a logistic regression model that predicts the target using age, gender_F and time_since_last gift\n",
        "predictors = [\"age\",\"gender_F\",\"time_since_last_gift\"]\n",
        "X = basetable[predictors]\n",
        "y = basetable[[\"target\"]]\n",
        "logreg = linear_model.LogisticRegression()\n",
        "logreg.fit(X, y)\n",
        "\n",
        "# Assign the coefficients to a list coef\n",
        "coef = logreg.coef_\n",
        "for p,c in zip(predictors,list(coef[0])):\n",
        "    print(p + '\\t' + str(c))\n",
        "    \n",
        "# Assign the intercept to the variable intercept\n",
        "intercept = logreg.intercept_\n",
        "print(intercept)"
      ],
      "metadata": {
        "colab": {
          "base_uri": "https://localhost:8080/"
        },
        "id": "ltVMFRmDUsPl",
        "outputId": "64d4edf6-6ed1-4341-d044-56dd4582d359"
      },
      "execution_count": 47,
      "outputs": [
        {
          "output_type": "stream",
          "name": "stdout",
          "text": [
            "age\t0.007801469599031016\n",
            "gender_F\t0.10964341264667467\n",
            "time_since_last_gift\t-0.0012872607039948081\n",
            "[-2.59072469]\n"
          ]
        },
        {
          "output_type": "stream",
          "name": "stderr",
          "text": [
            "/usr/local/lib/python3.10/dist-packages/sklearn/utils/validation.py:1143: DataConversionWarning: A column-vector y was passed when a 1d array was expected. Please change the shape of y to (n_samples, ), for example using ravel().\n",
            "  y = column_or_1d(y, warn=True)\n"
          ]
        }
      ]
    },
    {
      "cell_type": "markdown",
      "source": [
        "The coefficient of gender_F is positive, meaning that women are more likely to donate."
      ],
      "metadata": {
        "id": "G2tBLFcvXFpb"
      }
    },
    {
      "cell_type": "markdown",
      "source": [
        "#### Making predictions\n",
        "Once your model is ready, you can use it to make predictions for a campaign. It is important to always use the latest information to make predictions.\n",
        "\n",
        "In this exercise you will, given a fitted logistic regression model, learn how to make predictions for a new, updated basetable."
      ],
      "metadata": {
        "id": "3aHR29n5YH-3"
      }
    },
    {
      "cell_type": "code",
      "source": [
        "# Fit a logistic regression model\n",
        "from sklearn import linear_model\n",
        "X = basetable[[\"age\",\"gender_F\",\"time_since_last_gift\"]]\n",
        "y = basetable[[\"target\"]]\n",
        "logreg = linear_model.LogisticRegression()\n",
        "logreg.fit(X, y)\n",
        "\n",
        "# Create a DataFrame new_data from current_data that has only the relevant predictors \n",
        "new_data = basetable[[\"age\",\"gender_F\",\"time_since_last_gift\"]]\n",
        "\n",
        "# Make a prediction for each observation in new_data and assign it to predictions\n",
        "predictions = logreg.predict_proba(new_data)\n",
        "print(predictions[0:5])"
      ],
      "metadata": {
        "colab": {
          "base_uri": "https://localhost:8080/"
        },
        "id": "dNigM_J3YOIi",
        "outputId": "64cbbdaa-0f94-4c1d-95eb-249f9b7f51df"
      },
      "execution_count": 48,
      "outputs": [
        {
          "output_type": "stream",
          "name": "stderr",
          "text": [
            "/usr/local/lib/python3.10/dist-packages/sklearn/utils/validation.py:1143: DataConversionWarning: A column-vector y was passed when a 1d array was expected. Please change the shape of y to (n_samples, ), for example using ravel().\n",
            "  y = column_or_1d(y, warn=True)\n"
          ]
        },
        {
          "output_type": "stream",
          "name": "stdout",
          "text": [
            "[[0.93439418 0.06560582]\n",
            " [0.94519285 0.05480715]\n",
            " [0.92097941 0.07902059]\n",
            " [0.95296422 0.04703578]\n",
            " [0.94672824 0.05327176]]\n"
          ]
        }
      ]
    },
    {
      "cell_type": "markdown",
      "source": [
        "The predictions consist of two values. The second value is the probability that the observation is a target."
      ],
      "metadata": {
        "id": "dBttffadZrzy"
      }
    },
    {
      "cell_type": "markdown",
      "source": [
        "#### Donor that is most likely to donate\n",
        "The predictions that result from the predictive model reflect how likely it is that someone is a target. For instance, assume that you constructed a model to predict whether a donor will donate more than 50 Euro for a certain campaign. If the prediction for a certain donor is 0.82, it means that there is an 82% chance that he will donate more than 50 Euro.\n",
        "\n",
        "In this exercise you will find the donor that is most likely to donate more than 50 Euro.\n",
        "\n",
        "Recall that you can sort a pandas DataFrame df according to a certain column c using\n",
        "\n",
        "df_sorted = df.sort_values([\"c\"])\n",
        "\n",
        "and that you can select the first and last row of a pandas DataFrame using\n",
        "\n",
        "first_row = df.head(1)\n",
        "\n",
        "last_row = df.tail(1)"
      ],
      "metadata": {
        "id": "EhlcGb7LZvUz"
      }
    },
    {
      "cell_type": "code",
      "source": [
        "# Create dataframe predictions\n",
        "predictions = pd.DataFrame(predictions)\n",
        "\n",
        "# Rename column\n",
        "predictions.columns = ['0', 'probability']\n",
        "\n",
        "print(predictions)"
      ],
      "metadata": {
        "colab": {
          "base_uri": "https://localhost:8080/"
        },
        "id": "nvR-iWQLebSP",
        "outputId": "3a566d67-1af6-4f44-d916-0f810f1527b5"
      },
      "execution_count": 49,
      "outputs": [
        {
          "output_type": "stream",
          "name": "stdout",
          "text": [
            "              0  probability\n",
            "0      0.934394     0.065606\n",
            "1      0.945193     0.054807\n",
            "2      0.920979     0.079021\n",
            "3      0.952964     0.047036\n",
            "4      0.946728     0.053272\n",
            "...         ...          ...\n",
            "24995  0.923354     0.076646\n",
            "24996  0.952576     0.047424\n",
            "24997  0.956548     0.043452\n",
            "24998  0.959632     0.040368\n",
            "24999  0.978607     0.021393\n",
            "\n",
            "[25000 rows x 2 columns]\n"
          ]
        }
      ]
    },
    {
      "cell_type": "code",
      "source": [
        "predictions = pd.DataFrame(predictions)\n",
        "# Sort the predictions\n",
        "predictions_sorted = predictions.sort_values(['probability'])\n",
        "\n",
        "# Print the row of predictions_sorted that has the donor that is most likely to donate\n",
        "print(predictions_sorted.tail(1))"
      ],
      "metadata": {
        "colab": {
          "base_uri": "https://localhost:8080/"
        },
        "id": "G0yqT9JkdopI",
        "outputId": "224eb3a1-bccb-4bb5-b36d-f422f8e01db4"
      },
      "execution_count": 50,
      "outputs": [
        {
          "output_type": "stream",
          "name": "stdout",
          "text": [
            "              0  probability\n",
            "18873  0.850223     0.149777\n"
          ]
        }
      ]
    },
    {
      "cell_type": "markdown",
      "source": [
        "The donor that is most likely to donate still has a rather low probability to donate, this is due to the fact that the overal target incidence is low."
      ],
      "metadata": {
        "id": "BCPTeT2YduEa"
      }
    },
    {
      "cell_type": "markdown",
      "source": [
        "#### Calculating AUC\n",
        "The AUC value assesses how well a model can order observations from low probability to be target to high probability to be target. In Python, the roc_auc_score function can be used to calculate the AUC of the model. It takes the true values of the target and the predictions as arguments."
      ],
      "metadata": {
        "id": "H0gTxt6zlYzg"
      }
    },
    {
      "cell_type": "code",
      "source": [
        "# import roc_auc_score\n",
        "from sklearn.metrics import roc_auc_score\n",
        "\n",
        "# Make predictions\n",
        "predictions = logreg.predict_proba(X)\n",
        "predictions_target = predictions[:,1]\n",
        "\n",
        "# Calculate the AUC value\n",
        "auc = roc_auc_score(y, predictions_target)\n",
        "print(round(auc,2))"
      ],
      "metadata": {
        "colab": {
          "base_uri": "https://localhost:8080/"
        },
        "id": "5qKa9AxBm6mV",
        "outputId": "12785f28-23f4-4e58-f5dc-e6c33e5796bc"
      },
      "execution_count": 51,
      "outputs": [
        {
          "output_type": "stream",
          "name": "stdout",
          "text": [
            "0.63\n"
          ]
        }
      ]
    },
    {
      "cell_type": "markdown",
      "source": [
        "An AUC of 0.63 is a typical result for this type of cases. Let's check if we can improve using different sets of variables."
      ],
      "metadata": {
        "id": "X50SReByokFA"
      }
    },
    {
      "cell_type": "markdown",
      "source": [
        "####Using different sets of variables\n",
        "Adding more variables and therefore more complexity to your logistic regression model does not automatically result in more accurate models. In this exercise you can verify whether adding 3 variables to a model leads to a more accurate model."
      ],
      "metadata": {
        "id": "nWvpGoeRosAH"
      }
    },
    {
      "cell_type": "code",
      "source": [
        "# Create dataframe\n",
        "#variables_1 = basetable[['mean_gift', 'income_low']]\n",
        "#variables_2 = basetable[['mean_gift', 'income_low', 'gender_F', 'country_India', 'age']]"
      ],
      "metadata": {
        "id": "5c2iB8q6pEOs"
      },
      "execution_count": 52,
      "outputs": []
    },
    {
      "cell_type": "code",
      "source": [
        "# Create appropriate DataFrames\n",
        "X_1 = basetable[['mean_gift', 'income_low']]\n",
        "X_2 = basetable[['mean_gift', 'income_low', 'gender_F', 'country_India', 'age']]\n",
        "y = basetable[[\"target\"]]\n",
        "\n",
        "# Create the logistic regression model\n",
        "logreg = linear_model.LogisticRegression()\n",
        "\n",
        "# Make predictions using the first set of variables and assign the AUC to auc_1\n",
        "logreg.fit(X_1, y)\n",
        "predictions_1 = logreg.predict_proba(X_1)[:,1]\n",
        "auc_1 = roc_auc_score(y, predictions_1)\n",
        "\n",
        "# Make predictions using the second set of variables and assign the AUC to auc_2\n",
        "logreg.fit(X_2, y)\n",
        "predictions_2 = logreg.predict_proba(X_2)[:,1]\n",
        "auc_2 = roc_auc_score(y, predictions_2)\n",
        "\n",
        "# Print auc_1 and auc_2\n",
        "print(round(auc_1,2))\n",
        "print(round(auc_2,2))"
      ],
      "metadata": {
        "colab": {
          "base_uri": "https://localhost:8080/"
        },
        "id": "e5pYI2cBpx9c",
        "outputId": "47fbb49a-ddfb-4c95-b714-313adfcc67ef"
      },
      "execution_count": 53,
      "outputs": [
        {
          "output_type": "stream",
          "name": "stderr",
          "text": [
            "/usr/local/lib/python3.10/dist-packages/sklearn/utils/validation.py:1143: DataConversionWarning: A column-vector y was passed when a 1d array was expected. Please change the shape of y to (n_samples, ), for example using ravel().\n",
            "  y = column_or_1d(y, warn=True)\n"
          ]
        },
        {
          "output_type": "stream",
          "name": "stdout",
          "text": [
            "0.68\n",
            "0.69\n"
          ]
        },
        {
          "output_type": "stream",
          "name": "stderr",
          "text": [
            "/usr/local/lib/python3.10/dist-packages/sklearn/utils/validation.py:1143: DataConversionWarning: A column-vector y was passed when a 1d array was expected. Please change the shape of y to (n_samples, ), for example using ravel().\n",
            "  y = column_or_1d(y, warn=True)\n"
          ]
        }
      ]
    },
    {
      "cell_type": "markdown",
      "source": [
        "You can see that the model with 5 variables has the same AUC as the model using only 2 variables. Adding more variables doesn't always increase the AUC."
      ],
      "metadata": {
        "id": "bAS_nge4rFaI"
      }
    },
    {
      "cell_type": "markdown",
      "source": [
        "#### Selecting the next best variable\n",
        "The forward stepwise variable selection method starts with an empty variable set and proceeds in steps, where in each step the next best variable is added. To implement this procedure, two handy functions have been implemented for you.\n",
        "\n",
        "The auc function calculates for a given variable set variables the AUC of the model that uses this variable set as predictors. The next_best function calculates which variable should be added in the next step to the variable list.\n",
        "\n",
        "In this exercise, you will experiment with these functions to better understand their purpose. You will calculate the AUC of a given variable set, calculate which variable should be added next, and verify that this indeed results in an optimal AUC."
      ],
      "metadata": {
        "id": "255P5mQcsZp_"
      }
    },
    {
      "cell_type": "code",
      "source": [
        "# Implementation of the AUC function\n",
        "def auc(variables, target, basetable):    \n",
        "    X = basetable[variables]    \n",
        "    y = basetable[target]    \n",
        "    logreg = linear_model.LogisticRegression()    \n",
        "    logreg.fit(X, y)    \n",
        "    predictions = logreg.predict_proba(X)[:,1]    \n",
        "    auc = roc_auc_score(y, predictions)\n",
        "    return(auc)"
      ],
      "metadata": {
        "id": "NL4D1AGvz3Xg"
      },
      "execution_count": 54,
      "outputs": []
    },
    {
      "cell_type": "code",
      "source": [
        "# Calculating the next best variable\n",
        "def next_best(current_variables,candidate_variables, target, basetable):    \n",
        "    best_auc = -1    \n",
        "    best_variable = None\n",
        "    for v in candidate_variables:        \n",
        "        auc_v = auc(current_variables + [v], target, basetable)\n",
        "        if auc_v >= best_auc:            \n",
        "            best_auc = auc_v            \n",
        "            best_variable = v\n",
        "    return best_variable"
      ],
      "metadata": {
        "id": "kLEf3dsj0g_F"
      },
      "execution_count": 55,
      "outputs": []
    },
    {
      "cell_type": "code",
      "source": [
        "# Calculate the AUC of a model that uses \"max_gift\", \"mean_gift\" and \"min_gift\" as predictors\n",
        "auc_current = auc([\"max_gift\", \"mean_gift\", \"min_gift\"], [\"target\"], basetable)\n",
        "print(round(auc_current,4))\n",
        "\n",
        "# Calculate which variable among \"age\" and \"gender_F\" should be added to the variables \"max_gift\", \"mean_gift\" and \"min_gift\"\n",
        "next_variable = next_best([\"max_gift\", \"mean_gift\", \"min_gift\"], [\"age\", \"gender_F\"], [\"target\"], basetable)\n",
        "print(next_variable)\n",
        "\n",
        "# Calculate the AUC of a model that uses \"max_gift\", \"mean_gift\", \"min_gift\" and \"age\" as predictors\n",
        "auc_current_age = auc([\"max_gift\", \"mean_gift\", \"min_gift\", \"age\"], [\"target\"], basetable)\n",
        "print(round(auc_current_age,4))\n",
        "\n",
        "# Calculate the AUC of a model that uses \"max_gift\", \"mean_gift\", \"min_gift\" and \"gender_F\" as predictors\n",
        "auc_current_gender_F = auc([\"max_gift\", \"mean_gift\", \"min_gift\", \"gender_F\"], [\"target\"], basetable)\n",
        "print(round(auc_current_gender_F,4))"
      ],
      "metadata": {
        "colab": {
          "base_uri": "https://localhost:8080/"
        },
        "id": "HAH-bew7uVWF",
        "outputId": "e76183b2-a7f8-43c2-ed8d-094f8df950fa"
      },
      "execution_count": 56,
      "outputs": [
        {
          "output_type": "stream",
          "name": "stderr",
          "text": [
            "/usr/local/lib/python3.10/dist-packages/sklearn/utils/validation.py:1143: DataConversionWarning: A column-vector y was passed when a 1d array was expected. Please change the shape of y to (n_samples, ), for example using ravel().\n",
            "  y = column_or_1d(y, warn=True)\n"
          ]
        },
        {
          "output_type": "stream",
          "name": "stdout",
          "text": [
            "0.7126\n"
          ]
        },
        {
          "output_type": "stream",
          "name": "stderr",
          "text": [
            "/usr/local/lib/python3.10/dist-packages/sklearn/utils/validation.py:1143: DataConversionWarning: A column-vector y was passed when a 1d array was expected. Please change the shape of y to (n_samples, ), for example using ravel().\n",
            "  y = column_or_1d(y, warn=True)\n",
            "/usr/local/lib/python3.10/dist-packages/sklearn/utils/validation.py:1143: DataConversionWarning: A column-vector y was passed when a 1d array was expected. Please change the shape of y to (n_samples, ), for example using ravel().\n",
            "  y = column_or_1d(y, warn=True)\n"
          ]
        },
        {
          "output_type": "stream",
          "name": "stdout",
          "text": [
            "age\n"
          ]
        },
        {
          "output_type": "stream",
          "name": "stderr",
          "text": [
            "/usr/local/lib/python3.10/dist-packages/sklearn/utils/validation.py:1143: DataConversionWarning: A column-vector y was passed when a 1d array was expected. Please change the shape of y to (n_samples, ), for example using ravel().\n",
            "  y = column_or_1d(y, warn=True)\n"
          ]
        },
        {
          "output_type": "stream",
          "name": "stdout",
          "text": [
            "0.7149\n",
            "0.7131\n"
          ]
        },
        {
          "output_type": "stream",
          "name": "stderr",
          "text": [
            "/usr/local/lib/python3.10/dist-packages/sklearn/utils/validation.py:1143: DataConversionWarning: A column-vector y was passed when a 1d array was expected. Please change the shape of y to (n_samples, ), for example using ravel().\n",
            "  y = column_or_1d(y, warn=True)\n"
          ]
        }
      ]
    },
    {
      "cell_type": "markdown",
      "source": [
        "The model that has age as next variable has a better AUC than the model that has gender_F as next variable. Therefore, age is selected as the next best variable."
      ],
      "metadata": {
        "id": "mSUd3bpLuoJ3"
      }
    },
    {
      "cell_type": "markdown",
      "source": [
        "#### Finding the order of variables\n",
        "The forward stepwise variable selection procedure starts with an empty set of variables, and adds predictors one by one. In each step, the predictor that has the highest AUC in combination with the current variables is selected.\n",
        "\n",
        "In this exercise you will learn to implement the forward stepwise variable selection procedure. To this end, you can use the next_best function that has been implemented for you. It can be used as follows:\n",
        "\n",
        "next_best(current_variables,candidate_variables,target,basetable)\n",
        "\n",
        "where current_variables is the list of variables that is already in the model and candidate_variables the list of variables that can be added next."
      ],
      "metadata": {
        "id": "iSxsb-J-1X4j"
      }
    },
    {
      "cell_type": "code",
      "source": [
        "# Find the candidate variables\n",
        "candidate_variables = list(basetable.columns.values)\n",
        "candidate_variables.remove(\"target\")\n",
        "\n",
        "# Initialize the current variables\n",
        "current_variables = []\n",
        "\n",
        "# The forward stepwise variable selection procedure\n",
        "number_iterations = 5\n",
        "for i in range(0, number_iterations):\n",
        "    next_variable = next_best(current_variables, candidate_variables, [\"target\"], basetable)\n",
        "    current_variables = current_variables + [next_variable]\n",
        "    candidate_variables.remove(next_variable)\n",
        "    print(\"Variable added in step \" + str(i+1)  + \" is \" + next_variable + \".\")\n",
        "print(current_variables)"
      ],
      "metadata": {
        "colab": {
          "base_uri": "https://localhost:8080/"
        },
        "id": "E15qdSkZ96Aa",
        "outputId": "4073523d-8fdc-475e-d7a0-0067d8b1d785"
      },
      "execution_count": 57,
      "outputs": [
        {
          "output_type": "stream",
          "name": "stderr",
          "text": [
            "/usr/local/lib/python3.10/dist-packages/sklearn/utils/validation.py:1143: DataConversionWarning: A column-vector y was passed when a 1d array was expected. Please change the shape of y to (n_samples, ), for example using ravel().\n",
            "  y = column_or_1d(y, warn=True)\n",
            "/usr/local/lib/python3.10/dist-packages/sklearn/utils/validation.py:1143: DataConversionWarning: A column-vector y was passed when a 1d array was expected. Please change the shape of y to (n_samples, ), for example using ravel().\n",
            "  y = column_or_1d(y, warn=True)\n",
            "/usr/local/lib/python3.10/dist-packages/sklearn/utils/validation.py:1143: DataConversionWarning: A column-vector y was passed when a 1d array was expected. Please change the shape of y to (n_samples, ), for example using ravel().\n",
            "  y = column_or_1d(y, warn=True)\n",
            "/usr/local/lib/python3.10/dist-packages/sklearn/utils/validation.py:1143: DataConversionWarning: A column-vector y was passed when a 1d array was expected. Please change the shape of y to (n_samples, ), for example using ravel().\n",
            "  y = column_or_1d(y, warn=True)\n",
            "/usr/local/lib/python3.10/dist-packages/sklearn/utils/validation.py:1143: DataConversionWarning: A column-vector y was passed when a 1d array was expected. Please change the shape of y to (n_samples, ), for example using ravel().\n",
            "  y = column_or_1d(y, warn=True)\n",
            "/usr/local/lib/python3.10/dist-packages/sklearn/utils/validation.py:1143: DataConversionWarning: A column-vector y was passed when a 1d array was expected. Please change the shape of y to (n_samples, ), for example using ravel().\n",
            "  y = column_or_1d(y, warn=True)\n",
            "/usr/local/lib/python3.10/dist-packages/sklearn/utils/validation.py:1143: DataConversionWarning: A column-vector y was passed when a 1d array was expected. Please change the shape of y to (n_samples, ), for example using ravel().\n",
            "  y = column_or_1d(y, warn=True)\n",
            "/usr/local/lib/python3.10/dist-packages/sklearn/utils/validation.py:1143: DataConversionWarning: A column-vector y was passed when a 1d array was expected. Please change the shape of y to (n_samples, ), for example using ravel().\n",
            "  y = column_or_1d(y, warn=True)\n",
            "/usr/local/lib/python3.10/dist-packages/sklearn/utils/validation.py:1143: DataConversionWarning: A column-vector y was passed when a 1d array was expected. Please change the shape of y to (n_samples, ), for example using ravel().\n",
            "  y = column_or_1d(y, warn=True)\n",
            "/usr/local/lib/python3.10/dist-packages/sklearn/utils/validation.py:1143: DataConversionWarning: A column-vector y was passed when a 1d array was expected. Please change the shape of y to (n_samples, ), for example using ravel().\n",
            "  y = column_or_1d(y, warn=True)\n",
            "/usr/local/lib/python3.10/dist-packages/sklearn/utils/validation.py:1143: DataConversionWarning: A column-vector y was passed when a 1d array was expected. Please change the shape of y to (n_samples, ), for example using ravel().\n",
            "  y = column_or_1d(y, warn=True)\n",
            "/usr/local/lib/python3.10/dist-packages/sklearn/utils/validation.py:1143: DataConversionWarning: A column-vector y was passed when a 1d array was expected. Please change the shape of y to (n_samples, ), for example using ravel().\n",
            "  y = column_or_1d(y, warn=True)\n",
            "/usr/local/lib/python3.10/dist-packages/sklearn/utils/validation.py:1143: DataConversionWarning: A column-vector y was passed when a 1d array was expected. Please change the shape of y to (n_samples, ), for example using ravel().\n",
            "  y = column_or_1d(y, warn=True)\n",
            "/usr/local/lib/python3.10/dist-packages/sklearn/utils/validation.py:1143: DataConversionWarning: A column-vector y was passed when a 1d array was expected. Please change the shape of y to (n_samples, ), for example using ravel().\n",
            "  y = column_or_1d(y, warn=True)\n",
            "/usr/local/lib/python3.10/dist-packages/sklearn/utils/validation.py:1143: DataConversionWarning: A column-vector y was passed when a 1d array was expected. Please change the shape of y to (n_samples, ), for example using ravel().\n",
            "  y = column_or_1d(y, warn=True)\n",
            "/usr/local/lib/python3.10/dist-packages/sklearn/utils/validation.py:1143: DataConversionWarning: A column-vector y was passed when a 1d array was expected. Please change the shape of y to (n_samples, ), for example using ravel().\n",
            "  y = column_or_1d(y, warn=True)\n",
            "/usr/local/lib/python3.10/dist-packages/sklearn/utils/validation.py:1143: DataConversionWarning: A column-vector y was passed when a 1d array was expected. Please change the shape of y to (n_samples, ), for example using ravel().\n",
            "  y = column_or_1d(y, warn=True)\n"
          ]
        },
        {
          "output_type": "stream",
          "name": "stdout",
          "text": [
            "Variable added in step 1 is max_gift.\n"
          ]
        },
        {
          "output_type": "stream",
          "name": "stderr",
          "text": [
            "/usr/local/lib/python3.10/dist-packages/sklearn/utils/validation.py:1143: DataConversionWarning: A column-vector y was passed when a 1d array was expected. Please change the shape of y to (n_samples, ), for example using ravel().\n",
            "  y = column_or_1d(y, warn=True)\n",
            "/usr/local/lib/python3.10/dist-packages/sklearn/utils/validation.py:1143: DataConversionWarning: A column-vector y was passed when a 1d array was expected. Please change the shape of y to (n_samples, ), for example using ravel().\n",
            "  y = column_or_1d(y, warn=True)\n",
            "/usr/local/lib/python3.10/dist-packages/sklearn/utils/validation.py:1143: DataConversionWarning: A column-vector y was passed when a 1d array was expected. Please change the shape of y to (n_samples, ), for example using ravel().\n",
            "  y = column_or_1d(y, warn=True)\n",
            "/usr/local/lib/python3.10/dist-packages/sklearn/utils/validation.py:1143: DataConversionWarning: A column-vector y was passed when a 1d array was expected. Please change the shape of y to (n_samples, ), for example using ravel().\n",
            "  y = column_or_1d(y, warn=True)\n",
            "/usr/local/lib/python3.10/dist-packages/sklearn/utils/validation.py:1143: DataConversionWarning: A column-vector y was passed when a 1d array was expected. Please change the shape of y to (n_samples, ), for example using ravel().\n",
            "  y = column_or_1d(y, warn=True)\n",
            "/usr/local/lib/python3.10/dist-packages/sklearn/utils/validation.py:1143: DataConversionWarning: A column-vector y was passed when a 1d array was expected. Please change the shape of y to (n_samples, ), for example using ravel().\n",
            "  y = column_or_1d(y, warn=True)\n",
            "/usr/local/lib/python3.10/dist-packages/sklearn/utils/validation.py:1143: DataConversionWarning: A column-vector y was passed when a 1d array was expected. Please change the shape of y to (n_samples, ), for example using ravel().\n",
            "  y = column_or_1d(y, warn=True)\n",
            "/usr/local/lib/python3.10/dist-packages/sklearn/utils/validation.py:1143: DataConversionWarning: A column-vector y was passed when a 1d array was expected. Please change the shape of y to (n_samples, ), for example using ravel().\n",
            "  y = column_or_1d(y, warn=True)\n",
            "/usr/local/lib/python3.10/dist-packages/sklearn/utils/validation.py:1143: DataConversionWarning: A column-vector y was passed when a 1d array was expected. Please change the shape of y to (n_samples, ), for example using ravel().\n",
            "  y = column_or_1d(y, warn=True)\n",
            "/usr/local/lib/python3.10/dist-packages/sklearn/utils/validation.py:1143: DataConversionWarning: A column-vector y was passed when a 1d array was expected. Please change the shape of y to (n_samples, ), for example using ravel().\n",
            "  y = column_or_1d(y, warn=True)\n"
          ]
        },
        {
          "output_type": "stream",
          "name": "stdout",
          "text": [
            "Variable added in step 2 is number_gift.\n"
          ]
        },
        {
          "output_type": "stream",
          "name": "stderr",
          "text": [
            "/usr/local/lib/python3.10/dist-packages/sklearn/utils/validation.py:1143: DataConversionWarning: A column-vector y was passed when a 1d array was expected. Please change the shape of y to (n_samples, ), for example using ravel().\n",
            "  y = column_or_1d(y, warn=True)\n",
            "/usr/local/lib/python3.10/dist-packages/sklearn/utils/validation.py:1143: DataConversionWarning: A column-vector y was passed when a 1d array was expected. Please change the shape of y to (n_samples, ), for example using ravel().\n",
            "  y = column_or_1d(y, warn=True)\n",
            "/usr/local/lib/python3.10/dist-packages/sklearn/utils/validation.py:1143: DataConversionWarning: A column-vector y was passed when a 1d array was expected. Please change the shape of y to (n_samples, ), for example using ravel().\n",
            "  y = column_or_1d(y, warn=True)\n",
            "/usr/local/lib/python3.10/dist-packages/sklearn/utils/validation.py:1143: DataConversionWarning: A column-vector y was passed when a 1d array was expected. Please change the shape of y to (n_samples, ), for example using ravel().\n",
            "  y = column_or_1d(y, warn=True)\n",
            "/usr/local/lib/python3.10/dist-packages/sklearn/utils/validation.py:1143: DataConversionWarning: A column-vector y was passed when a 1d array was expected. Please change the shape of y to (n_samples, ), for example using ravel().\n",
            "  y = column_or_1d(y, warn=True)\n",
            "/usr/local/lib/python3.10/dist-packages/sklearn/utils/validation.py:1143: DataConversionWarning: A column-vector y was passed when a 1d array was expected. Please change the shape of y to (n_samples, ), for example using ravel().\n",
            "  y = column_or_1d(y, warn=True)\n",
            "/usr/local/lib/python3.10/dist-packages/sklearn/utils/validation.py:1143: DataConversionWarning: A column-vector y was passed when a 1d array was expected. Please change the shape of y to (n_samples, ), for example using ravel().\n",
            "  y = column_or_1d(y, warn=True)\n",
            "/usr/local/lib/python3.10/dist-packages/sklearn/utils/validation.py:1143: DataConversionWarning: A column-vector y was passed when a 1d array was expected. Please change the shape of y to (n_samples, ), for example using ravel().\n",
            "  y = column_or_1d(y, warn=True)\n",
            "/usr/local/lib/python3.10/dist-packages/sklearn/utils/validation.py:1143: DataConversionWarning: A column-vector y was passed when a 1d array was expected. Please change the shape of y to (n_samples, ), for example using ravel().\n",
            "  y = column_or_1d(y, warn=True)\n",
            "/usr/local/lib/python3.10/dist-packages/sklearn/utils/validation.py:1143: DataConversionWarning: A column-vector y was passed when a 1d array was expected. Please change the shape of y to (n_samples, ), for example using ravel().\n",
            "  y = column_or_1d(y, warn=True)\n"
          ]
        },
        {
          "output_type": "stream",
          "name": "stdout",
          "text": [
            "Variable added in step 3 is time_since_last_gift.\n"
          ]
        },
        {
          "output_type": "stream",
          "name": "stderr",
          "text": [
            "/usr/local/lib/python3.10/dist-packages/sklearn/utils/validation.py:1143: DataConversionWarning: A column-vector y was passed when a 1d array was expected. Please change the shape of y to (n_samples, ), for example using ravel().\n",
            "  y = column_or_1d(y, warn=True)\n",
            "/usr/local/lib/python3.10/dist-packages/sklearn/utils/validation.py:1143: DataConversionWarning: A column-vector y was passed when a 1d array was expected. Please change the shape of y to (n_samples, ), for example using ravel().\n",
            "  y = column_or_1d(y, warn=True)\n",
            "/usr/local/lib/python3.10/dist-packages/sklearn/utils/validation.py:1143: DataConversionWarning: A column-vector y was passed when a 1d array was expected. Please change the shape of y to (n_samples, ), for example using ravel().\n",
            "  y = column_or_1d(y, warn=True)\n",
            "/usr/local/lib/python3.10/dist-packages/sklearn/utils/validation.py:1143: DataConversionWarning: A column-vector y was passed when a 1d array was expected. Please change the shape of y to (n_samples, ), for example using ravel().\n",
            "  y = column_or_1d(y, warn=True)\n",
            "/usr/local/lib/python3.10/dist-packages/sklearn/utils/validation.py:1143: DataConversionWarning: A column-vector y was passed when a 1d array was expected. Please change the shape of y to (n_samples, ), for example using ravel().\n",
            "  y = column_or_1d(y, warn=True)\n",
            "/usr/local/lib/python3.10/dist-packages/sklearn/utils/validation.py:1143: DataConversionWarning: A column-vector y was passed when a 1d array was expected. Please change the shape of y to (n_samples, ), for example using ravel().\n",
            "  y = column_or_1d(y, warn=True)\n",
            "/usr/local/lib/python3.10/dist-packages/sklearn/utils/validation.py:1143: DataConversionWarning: A column-vector y was passed when a 1d array was expected. Please change the shape of y to (n_samples, ), for example using ravel().\n",
            "  y = column_or_1d(y, warn=True)\n",
            "/usr/local/lib/python3.10/dist-packages/sklearn/utils/validation.py:1143: DataConversionWarning: A column-vector y was passed when a 1d array was expected. Please change the shape of y to (n_samples, ), for example using ravel().\n",
            "  y = column_or_1d(y, warn=True)\n",
            "/usr/local/lib/python3.10/dist-packages/sklearn/utils/validation.py:1143: DataConversionWarning: A column-vector y was passed when a 1d array was expected. Please change the shape of y to (n_samples, ), for example using ravel().\n",
            "  y = column_or_1d(y, warn=True)\n",
            "/usr/local/lib/python3.10/dist-packages/sklearn/utils/validation.py:1143: DataConversionWarning: A column-vector y was passed when a 1d array was expected. Please change the shape of y to (n_samples, ), for example using ravel().\n",
            "  y = column_or_1d(y, warn=True)\n",
            "/usr/local/lib/python3.10/dist-packages/sklearn/linear_model/_logistic.py:458: ConvergenceWarning: lbfgs failed to converge (status=1):\n",
            "STOP: TOTAL NO. of ITERATIONS REACHED LIMIT.\n",
            "\n",
            "Increase the number of iterations (max_iter) or scale the data as shown in:\n",
            "    https://scikit-learn.org/stable/modules/preprocessing.html\n",
            "Please also refer to the documentation for alternative solver options:\n",
            "    https://scikit-learn.org/stable/modules/linear_model.html#logistic-regression\n",
            "  n_iter_i = _check_optimize_result(\n",
            "/usr/local/lib/python3.10/dist-packages/sklearn/utils/validation.py:1143: DataConversionWarning: A column-vector y was passed when a 1d array was expected. Please change the shape of y to (n_samples, ), for example using ravel().\n",
            "  y = column_or_1d(y, warn=True)\n"
          ]
        },
        {
          "output_type": "stream",
          "name": "stdout",
          "text": [
            "Variable added in step 4 is mean_gift.\n"
          ]
        },
        {
          "output_type": "stream",
          "name": "stderr",
          "text": [
            "/usr/local/lib/python3.10/dist-packages/sklearn/utils/validation.py:1143: DataConversionWarning: A column-vector y was passed when a 1d array was expected. Please change the shape of y to (n_samples, ), for example using ravel().\n",
            "  y = column_or_1d(y, warn=True)\n",
            "/usr/local/lib/python3.10/dist-packages/sklearn/utils/validation.py:1143: DataConversionWarning: A column-vector y was passed when a 1d array was expected. Please change the shape of y to (n_samples, ), for example using ravel().\n",
            "  y = column_or_1d(y, warn=True)\n",
            "/usr/local/lib/python3.10/dist-packages/sklearn/utils/validation.py:1143: DataConversionWarning: A column-vector y was passed when a 1d array was expected. Please change the shape of y to (n_samples, ), for example using ravel().\n",
            "  y = column_or_1d(y, warn=True)\n",
            "/usr/local/lib/python3.10/dist-packages/sklearn/linear_model/_logistic.py:458: ConvergenceWarning: lbfgs failed to converge (status=1):\n",
            "STOP: TOTAL NO. of ITERATIONS REACHED LIMIT.\n",
            "\n",
            "Increase the number of iterations (max_iter) or scale the data as shown in:\n",
            "    https://scikit-learn.org/stable/modules/preprocessing.html\n",
            "Please also refer to the documentation for alternative solver options:\n",
            "    https://scikit-learn.org/stable/modules/linear_model.html#logistic-regression\n",
            "  n_iter_i = _check_optimize_result(\n",
            "/usr/local/lib/python3.10/dist-packages/sklearn/utils/validation.py:1143: DataConversionWarning: A column-vector y was passed when a 1d array was expected. Please change the shape of y to (n_samples, ), for example using ravel().\n",
            "  y = column_or_1d(y, warn=True)\n",
            "/usr/local/lib/python3.10/dist-packages/sklearn/utils/validation.py:1143: DataConversionWarning: A column-vector y was passed when a 1d array was expected. Please change the shape of y to (n_samples, ), for example using ravel().\n",
            "  y = column_or_1d(y, warn=True)\n",
            "/usr/local/lib/python3.10/dist-packages/sklearn/utils/validation.py:1143: DataConversionWarning: A column-vector y was passed when a 1d array was expected. Please change the shape of y to (n_samples, ), for example using ravel().\n",
            "  y = column_or_1d(y, warn=True)\n",
            "/usr/local/lib/python3.10/dist-packages/sklearn/linear_model/_logistic.py:458: ConvergenceWarning: lbfgs failed to converge (status=1):\n",
            "STOP: TOTAL NO. of ITERATIONS REACHED LIMIT.\n",
            "\n",
            "Increase the number of iterations (max_iter) or scale the data as shown in:\n",
            "    https://scikit-learn.org/stable/modules/preprocessing.html\n",
            "Please also refer to the documentation for alternative solver options:\n",
            "    https://scikit-learn.org/stable/modules/linear_model.html#logistic-regression\n",
            "  n_iter_i = _check_optimize_result(\n",
            "/usr/local/lib/python3.10/dist-packages/sklearn/utils/validation.py:1143: DataConversionWarning: A column-vector y was passed when a 1d array was expected. Please change the shape of y to (n_samples, ), for example using ravel().\n",
            "  y = column_or_1d(y, warn=True)\n"
          ]
        },
        {
          "output_type": "stream",
          "name": "stdout",
          "text": [
            "Variable added in step 5 is age.\n",
            "['max_gift', 'number_gift', 'time_since_last_gift', 'mean_gift', 'age']\n"
          ]
        }
      ]
    },
    {
      "cell_type": "markdown",
      "source": [
        "DataCamp result:\n",
        "<script.py> output:\n",
        "    Variable added in step 1 is number_gift.\n",
        "\n",
        "    Variable added in step 2 is age.\n",
        "    \n",
        "    Variable added in step 3 is min_gift.\n",
        "    \n",
        "    Variable added in step 4 is time_since_last_gift.\n",
        "    \n",
        "    Variable added in step 5 is income_low.\n",
        "    \n",
        "    ['number_gift', 'age', 'min_gift', 'time_since_last_gift', 'income_low']"
      ],
      "metadata": {
        "id": "enc80KDBBCog"
      }
    },
    {
      "cell_type": "markdown",
      "source": [
        "#### Correlated variables\n",
        "The first 10 variables that are added to the model are the following:\n",
        "\n",
        "['max_gift', 'number_gift', 'time_since_last_gift', 'mean_gift', 'income_high', 'age', 'country_USA', 'gender_F', 'income_low', 'country_UK']\n",
        "\n",
        "As you can see, min_gift is not added. Does this mean that it is a bad variable? You can test the performance of the variable by using it in a model as a single variable and calculating the AUC. How does the AUC of min_gift compare to the AUC of income_high? To this end, you can use the function auc():\n",
        "\n",
        "auc(variables, target, basetable)\n",
        "\n",
        "It can happen that a good variable is not added because it is highly correlated with a variable that is already in the model. You can test this calculating the correlation between these variables:\n",
        "\n",
        "import numpy\n",
        "\n",
        "numpy.corrcoef(basetable[\"variable_1\"],basetable[\"variable_2\"])[0,1]"
      ],
      "metadata": {
        "id": "4AWQa6hzAAlh"
      }
    },
    {
      "cell_type": "code",
      "source": [
        "# Calculate the AUC of the model using min_gift only\n",
        "auc_min_gift = auc(['min_gift'], [\"target\"], basetable)\n",
        "print(round(auc_min_gift,2))\n",
        "\n",
        "# Calculate the AUC of the model using income_high only\n",
        "auc_income_high = auc(['income_high'], [\"target\"], basetable)\n",
        "print(round(auc_income_high,2))\n",
        "\n",
        "# Calculate the correlation between min_gift and mean_gift\n",
        "correlation = np.corrcoef(basetable[\"min_gift\"], basetable[\"mean_gift\"])[0,1]\n",
        "print(round(correlation,2))"
      ],
      "metadata": {
        "colab": {
          "base_uri": "https://localhost:8080/"
        },
        "id": "932AOqqxJ9PE",
        "outputId": "66c438af-b657-4c5e-ca05-fffe92f81c4f"
      },
      "execution_count": 58,
      "outputs": [
        {
          "output_type": "stream",
          "name": "stdout",
          "text": [
            "0.57\n",
            "0.52\n",
            "0.76\n"
          ]
        },
        {
          "output_type": "stream",
          "name": "stderr",
          "text": [
            "/usr/local/lib/python3.10/dist-packages/sklearn/utils/validation.py:1143: DataConversionWarning: A column-vector y was passed when a 1d array was expected. Please change the shape of y to (n_samples, ), for example using ravel().\n",
            "  y = column_or_1d(y, warn=True)\n",
            "/usr/local/lib/python3.10/dist-packages/sklearn/utils/validation.py:1143: DataConversionWarning: A column-vector y was passed when a 1d array was expected. Please change the shape of y to (n_samples, ), for example using ravel().\n",
            "  y = column_or_1d(y, warn=True)\n"
          ]
        }
      ]
    },
    {
      "cell_type": "markdown",
      "source": [
        "You can observe that min_gift has more predictive power than income_high, but that it is highly correlated with mean_gift and therefore not included in the selected variables."
      ],
      "metadata": {
        "id": "OTnsD5QDKImu"
      }
    },
    {
      "cell_type": "markdown",
      "source": [
        "#### Partitioning\n",
        "\n",
        "In order to properly evaluate a model, one can partition the data in a train and test set. The train set contains the data the model is built on, and the test data is used to evaluate the model. This division is done randomly, but when the target incidence is low, it could be necessary to stratify, that is, to make sure that the train and test data contain an equal percentage of targets.\n",
        "\n",
        "In this exercise you will partition the data with stratification and verify that the train and test data have equal target incidence. The train_test_split method has already been imported, and the X and y DataFrames are available in your workspace."
      ],
      "metadata": {
        "id": "yZROtiglUmX2"
      }
    },
    {
      "cell_type": "code",
      "source": [
        "# Load the partitioning module\n",
        "from sklearn.model_selection import train_test_split\n",
        "\n",
        "# Create DataFrames with variables and target\n",
        "X = basetable.drop(\"target\", 1)\n",
        "y = basetable[\"target\"]\n",
        "\n",
        "# Carry out 50-50 partititioning with stratification\n",
        "X_train, X_test, y_train, y_test = train_test_split(X, y, test_size = 0.5, stratify = y)\n",
        "\n",
        "# Create the final train and test basetables\n",
        "train = pd.concat([X_train, y_train], axis=1)\n",
        "test = pd.concat([X_test, y_test], axis=1)\n",
        "\n",
        "# Check whether train and test have same percentage targets\n",
        "print(round(sum(train['target'])/len(train), 2))\n",
        "print(round(sum(test['target'])/len(test), 2))"
      ],
      "metadata": {
        "colab": {
          "base_uri": "https://localhost:8080/"
        },
        "id": "C6DbRFirWuX2",
        "outputId": "9e84dc92-4980-40b2-f83f-9ad200613dcc"
      },
      "execution_count": 59,
      "outputs": [
        {
          "output_type": "stream",
          "name": "stdout",
          "text": [
            "0.05\n",
            "0.05\n"
          ]
        },
        {
          "output_type": "stream",
          "name": "stderr",
          "text": [
            "<ipython-input-59-169617f28132>:5: FutureWarning: In a future version of pandas all arguments of DataFrame.drop except for the argument 'labels' will be keyword-only.\n",
            "  X = basetable.drop(\"target\", 1)\n"
          ]
        }
      ]
    },
    {
      "cell_type": "markdown",
      "source": [
        "The stratify option makes sure the target incidence is the same in both train and test."
      ],
      "metadata": {
        "id": "AkMzBiizW1ZF"
      }
    },
    {
      "cell_type": "markdown",
      "source": [
        "#### Evaluating a model on test and train\n",
        "The function auc_train_test calculates the AUC of model that is built on a train set and evaluated on a test set:\n",
        "\n",
        "auc_train, auc_test = auc_train_test(variables, target, train, test)\n",
        "\n",
        "with variables a list of the names of the variables that is used in the model.\n",
        "\n",
        "In this exercise, you will apply this function, and check whether the train and test AUC are similar."
      ],
      "metadata": {
        "id": "krWlJtqXW5H1"
      }
    },
    {
      "cell_type": "code",
      "source": [
        "# Load the partitioning module\n",
        "from sklearn.model_selection import train_test_split\n",
        "\n",
        "# Create DataFrames with variables and target\n",
        "X = basetable.drop('target', 1)\n",
        "y = basetable[\"target\"]\n",
        "\n",
        "# Carry out 70-30 partititioning with stratification\n",
        "X_train, X_test, y_train, y_test = train_test_split(X, y, test_size = 0.3, stratify = y)\n",
        "\n",
        "# Create the final train and test basetables\n",
        "train = pd.concat([X_train, y_train], axis=1)\n",
        "test = pd.concat([X_test, y_test], axis=1)\n",
        "\n",
        "auc_train = auc([\"age\", \"gender_F\"], \"target\", train)\n",
        "auc_test = auc([\"age\", \"gender_F\"], \"target\", test)\n",
        "\n",
        "print(round(auc_train,2))\n",
        "print(round(auc_test,2))"
      ],
      "metadata": {
        "colab": {
          "base_uri": "https://localhost:8080/"
        },
        "id": "p-_1FZ8XbzN6",
        "outputId": "6ab1682e-2324-4464-f61f-11d848b126a8"
      },
      "execution_count": 60,
      "outputs": [
        {
          "output_type": "stream",
          "name": "stdout",
          "text": [
            "0.54\n",
            "0.54\n"
          ]
        },
        {
          "output_type": "stream",
          "name": "stderr",
          "text": [
            "<ipython-input-60-7a2dd87bff3e>:5: FutureWarning: In a future version of pandas all arguments of DataFrame.drop except for the argument 'labels' will be keyword-only.\n",
            "  X = basetable.drop('target', 1)\n"
          ]
        }
      ]
    },
    {
      "cell_type": "markdown",
      "source": [
        "#### Building the AUC curves\n",
        "The forward stepwise variable selection procedure provides an order in which variables are optimally added to the predictor set. In order to decide where to cut off the variables, you can make the train and test AUC curves. These curves plot the train and test AUC using the first, first two, first three, … variables in the model.\n",
        "\n",
        "In this exercise you will learn to plot these AUC curves. The method auc_train_test to calculate the AUC values has been implemented for you and can be used as follows:\n",
        "\n",
        "auc_train, auc_test = auc_train_test(variables, target, train, test)\n",
        "\n",
        "where variables is the set of variables used in the logistic regression model, target is a list with the target name, and train and test are the train and test basetable respectively.\n",
        "\n",
        "The variables ordered according to the forward stepwise procedure are given in the list variables. You can explore it in the console. Additionally, three empty lists have been defined for you:"
      ],
      "metadata": {
        "id": "ouqbS58nhcMR"
      }
    },
    {
      "cell_type": "code",
      "source": [
        "# Keep track of train and test AUC values\n",
        "auc_values_train = []\n",
        "auc_values_test = []\n",
        "variables_evaluate = []\n",
        "\n",
        "variables = ['max_gift',\n",
        " 'time_since_last_gift',\n",
        " 'number_gift',\n",
        " 'mean_gift',\n",
        " 'income_high',\n",
        " 'age',\n",
        " 'gender_F',\n",
        " 'time_since_first_gift',\n",
        " 'income_low',\n",
        " 'country_UK']\n",
        "\n",
        "# Iterate over the variables in variables\n",
        "for v in variables:\n",
        "  \n",
        "    # Add the variable\n",
        "    variables_evaluate.append(v)\n",
        "    \n",
        "    # Calculate the train and test AUC of this set of variables\n",
        "    auc_train = auc(variables_evaluate, \"target\", train)\n",
        "    auc_test = auc(variables_evaluate, \"target\", test)\n",
        "    \n",
        "    # Append the values to the lists\n",
        "    auc_values_train.append(auc_train)\n",
        "    auc_values_test.append(auc_test)\n",
        "    \n",
        "    # Make plot of the AUC values\n",
        "import matplotlib.pyplot as plt\n",
        "import numpy as np\n",
        "\n",
        "x = np.array(range(0,len(auc_values_train)))\n",
        "y_train = np.array(auc_values_train)\n",
        "y_test = np.array(auc_values_test)\n",
        "plt.xticks(x, variables, rotation = 90)\n",
        "plt.plot(x,y_train)\n",
        "plt.plot(x,y_test)\n",
        "plt.ylim((0.6, 0.8))\n",
        "plt.show()"
      ],
      "metadata": {
        "colab": {
          "base_uri": "https://localhost:8080/",
          "height": 1000
        },
        "id": "xwy1Z_9niIb_",
        "outputId": "3fb12507-055b-482d-cab3-a6a763b6f49c"
      },
      "execution_count": 61,
      "outputs": [
        {
          "output_type": "stream",
          "name": "stderr",
          "text": [
            "/usr/local/lib/python3.10/dist-packages/sklearn/linear_model/_logistic.py:458: ConvergenceWarning: lbfgs failed to converge (status=1):\n",
            "STOP: TOTAL NO. of ITERATIONS REACHED LIMIT.\n",
            "\n",
            "Increase the number of iterations (max_iter) or scale the data as shown in:\n",
            "    https://scikit-learn.org/stable/modules/preprocessing.html\n",
            "Please also refer to the documentation for alternative solver options:\n",
            "    https://scikit-learn.org/stable/modules/linear_model.html#logistic-regression\n",
            "  n_iter_i = _check_optimize_result(\n",
            "/usr/local/lib/python3.10/dist-packages/sklearn/linear_model/_logistic.py:458: ConvergenceWarning: lbfgs failed to converge (status=1):\n",
            "STOP: TOTAL NO. of ITERATIONS REACHED LIMIT.\n",
            "\n",
            "Increase the number of iterations (max_iter) or scale the data as shown in:\n",
            "    https://scikit-learn.org/stable/modules/preprocessing.html\n",
            "Please also refer to the documentation for alternative solver options:\n",
            "    https://scikit-learn.org/stable/modules/linear_model.html#logistic-regression\n",
            "  n_iter_i = _check_optimize_result(\n",
            "/usr/local/lib/python3.10/dist-packages/sklearn/linear_model/_logistic.py:458: ConvergenceWarning: lbfgs failed to converge (status=1):\n",
            "STOP: TOTAL NO. of ITERATIONS REACHED LIMIT.\n",
            "\n",
            "Increase the number of iterations (max_iter) or scale the data as shown in:\n",
            "    https://scikit-learn.org/stable/modules/preprocessing.html\n",
            "Please also refer to the documentation for alternative solver options:\n",
            "    https://scikit-learn.org/stable/modules/linear_model.html#logistic-regression\n",
            "  n_iter_i = _check_optimize_result(\n",
            "/usr/local/lib/python3.10/dist-packages/sklearn/linear_model/_logistic.py:458: ConvergenceWarning: lbfgs failed to converge (status=1):\n",
            "STOP: TOTAL NO. of ITERATIONS REACHED LIMIT.\n",
            "\n",
            "Increase the number of iterations (max_iter) or scale the data as shown in:\n",
            "    https://scikit-learn.org/stable/modules/preprocessing.html\n",
            "Please also refer to the documentation for alternative solver options:\n",
            "    https://scikit-learn.org/stable/modules/linear_model.html#logistic-regression\n",
            "  n_iter_i = _check_optimize_result(\n",
            "/usr/local/lib/python3.10/dist-packages/sklearn/linear_model/_logistic.py:458: ConvergenceWarning: lbfgs failed to converge (status=1):\n",
            "STOP: TOTAL NO. of ITERATIONS REACHED LIMIT.\n",
            "\n",
            "Increase the number of iterations (max_iter) or scale the data as shown in:\n",
            "    https://scikit-learn.org/stable/modules/preprocessing.html\n",
            "Please also refer to the documentation for alternative solver options:\n",
            "    https://scikit-learn.org/stable/modules/linear_model.html#logistic-regression\n",
            "  n_iter_i = _check_optimize_result(\n",
            "/usr/local/lib/python3.10/dist-packages/sklearn/linear_model/_logistic.py:458: ConvergenceWarning: lbfgs failed to converge (status=1):\n",
            "STOP: TOTAL NO. of ITERATIONS REACHED LIMIT.\n",
            "\n",
            "Increase the number of iterations (max_iter) or scale the data as shown in:\n",
            "    https://scikit-learn.org/stable/modules/preprocessing.html\n",
            "Please also refer to the documentation for alternative solver options:\n",
            "    https://scikit-learn.org/stable/modules/linear_model.html#logistic-regression\n",
            "  n_iter_i = _check_optimize_result(\n",
            "/usr/local/lib/python3.10/dist-packages/sklearn/linear_model/_logistic.py:458: ConvergenceWarning: lbfgs failed to converge (status=1):\n",
            "STOP: TOTAL NO. of ITERATIONS REACHED LIMIT.\n",
            "\n",
            "Increase the number of iterations (max_iter) or scale the data as shown in:\n",
            "    https://scikit-learn.org/stable/modules/preprocessing.html\n",
            "Please also refer to the documentation for alternative solver options:\n",
            "    https://scikit-learn.org/stable/modules/linear_model.html#logistic-regression\n",
            "  n_iter_i = _check_optimize_result(\n",
            "/usr/local/lib/python3.10/dist-packages/sklearn/linear_model/_logistic.py:458: ConvergenceWarning: lbfgs failed to converge (status=1):\n",
            "STOP: TOTAL NO. of ITERATIONS REACHED LIMIT.\n",
            "\n",
            "Increase the number of iterations (max_iter) or scale the data as shown in:\n",
            "    https://scikit-learn.org/stable/modules/preprocessing.html\n",
            "Please also refer to the documentation for alternative solver options:\n",
            "    https://scikit-learn.org/stable/modules/linear_model.html#logistic-regression\n",
            "  n_iter_i = _check_optimize_result(\n",
            "/usr/local/lib/python3.10/dist-packages/sklearn/linear_model/_logistic.py:458: ConvergenceWarning: lbfgs failed to converge (status=1):\n",
            "STOP: TOTAL NO. of ITERATIONS REACHED LIMIT.\n",
            "\n",
            "Increase the number of iterations (max_iter) or scale the data as shown in:\n",
            "    https://scikit-learn.org/stable/modules/preprocessing.html\n",
            "Please also refer to the documentation for alternative solver options:\n",
            "    https://scikit-learn.org/stable/modules/linear_model.html#logistic-regression\n",
            "  n_iter_i = _check_optimize_result(\n",
            "/usr/local/lib/python3.10/dist-packages/sklearn/linear_model/_logistic.py:458: ConvergenceWarning: lbfgs failed to converge (status=1):\n",
            "STOP: TOTAL NO. of ITERATIONS REACHED LIMIT.\n",
            "\n",
            "Increase the number of iterations (max_iter) or scale the data as shown in:\n",
            "    https://scikit-learn.org/stable/modules/preprocessing.html\n",
            "Please also refer to the documentation for alternative solver options:\n",
            "    https://scikit-learn.org/stable/modules/linear_model.html#logistic-regression\n",
            "  n_iter_i = _check_optimize_result(\n"
          ]
        },
        {
          "output_type": "display_data",
          "data": {
            "text/plain": [
              "<Figure size 640x480 with 1 Axes>"
            ],
            "image/png": "[encoded data removed]"
          },
          "metadata": {}
        }
      ]
    },
    {
      "cell_type": "markdown",
      "source": [
        "Note that the test AUC curve starts declining sooner than the train curve. The point at which this happens is a good cut-off."
      ],
      "metadata": {
        "id": "Wz8CtweplZ85"
      }
    },
    {
      "cell_type": "markdown",
      "source": [
        "# About the graph above\n",
        "Deciding the cut-off\n",
        "The forward stepwise variable selection results in the following AUC values. How many variables should be included in the model?\n",
        "\n",
        "8 variables, the test AUC does not increase after this point and it is better to have less complex models.\n",
        "\n"
      ],
      "metadata": {
        "id": "JUHMwwt3l0Cq"
      }
    },
    {
      "cell_type": "markdown",
      "source": [
        "#### Constructing the cumulative gains curve\n",
        "The cumulative gains curve is an evaluation curve that assesses the performance of your model. It shows the percentage of targets reached when considering a certain percentage of your population with the highest probability to be target according to your model.\n",
        "\n",
        "To construct this curve, you can use the .plot_cumulative_gain() method in the scikitplot module and the matplotlib.pyplot module. As for each model evaluation metric or curve, you need the true target values on the one hand and the predictions on the other hand to construct the cumulative gains curve."
      ],
      "metadata": {
        "id": "ZbRLLiYYWhJS"
      }
    },
    {
      "cell_type": "code",
      "source": [
        "from sklearn.linear_model import LogisticRegression\n",
        "from sklearn.model_selection import train_test_split\n",
        "\n",
        "X = basetable[[\"age\", \"gender_F\", \"time_since_last_gift\"]]\n",
        "y = basetable[[\"target\"]]\n",
        "\n",
        "X_train, X_test, y_train, y_test = train_test_split(X, y, test_size=0.3, random_state=123)\n",
        "logreg = LogisticRegression()\n",
        "logreg.fit(X_train, y_train)\n",
        "pred = logreg.predict_proba(X_test)"
      ],
      "metadata": {
        "colab": {
          "base_uri": "https://localhost:8080/"
        },
        "id": "1k5675noGsEv",
        "outputId": "f60785f7-912a-42d6-9fad-644a75a62fb9"
      },
      "execution_count": 62,
      "outputs": [
        {
          "output_type": "stream",
          "name": "stderr",
          "text": [
            "/usr/local/lib/python3.10/dist-packages/sklearn/utils/validation.py:1143: DataConversionWarning: A column-vector y was passed when a 1d array was expected. Please change the shape of y to (n_samples, ), for example using ravel().\n",
            "  y = column_or_1d(y, warn=True)\n"
          ]
        }
      ]
    },
    {
      "cell_type": "code",
      "source": [
        "pip install scikit-plot"
      ],
      "metadata": {
        "colab": {
          "base_uri": "https://localhost:8080/"
        },
        "id": "ObWgqXeuINpz",
        "outputId": "9f9205ce-7e99-44ff-fcda-43c64ca48527"
      },
      "execution_count": 63,
      "outputs": [
        {
          "output_type": "stream",
          "name": "stdout",
          "text": [
            "Looking in indexes: https://pypi.org/simple, https://us-python.pkg.dev/colab-wheels/public/simple/\n",
            "Requirement already satisfied: scikit-plot in /usr/local/lib/python3.10/dist-packages (0.3.7)\n",
            "Requirement already satisfied: matplotlib>=1.4.0 in /usr/local/lib/python3.10/dist-packages (from scikit-plot) (3.7.1)\n",
            "Requirement already satisfied: scikit-learn>=0.18 in /usr/local/lib/python3.10/dist-packages (from scikit-plot) (1.2.2)\n",
            "Requirement already satisfied: scipy>=0.9 in /usr/local/lib/python3.10/dist-packages (from scikit-plot) (1.10.1)\n",
            "Requirement already satisfied: joblib>=0.10 in /usr/local/lib/python3.10/dist-packages (from scikit-plot) (1.2.0)\n",
            "Requirement already satisfied: contourpy>=1.0.1 in /usr/local/lib/python3.10/dist-packages (from matplotlib>=1.4.0->scikit-plot) (1.0.7)\n",
            "Requirement already satisfied: cycler>=0.10 in /usr/local/lib/python3.10/dist-packages (from matplotlib>=1.4.0->scikit-plot) (0.11.0)\n",
            "Requirement already satisfied: fonttools>=4.22.0 in /usr/local/lib/python3.10/dist-packages (from matplotlib>=1.4.0->scikit-plot) (4.39.3)\n",
            "Requirement already satisfied: kiwisolver>=1.0.1 in /usr/local/lib/python3.10/dist-packages (from matplotlib>=1.4.0->scikit-plot) (1.4.4)\n",
            "Requirement already satisfied: numpy>=1.20 in /usr/local/lib/python3.10/dist-packages (from matplotlib>=1.4.0->scikit-plot) (1.22.4)\n",
            "Requirement already satisfied: packaging>=20.0 in /usr/local/lib/python3.10/dist-packages (from matplotlib>=1.4.0->scikit-plot) (23.1)\n",
            "Requirement already satisfied: pillow>=6.2.0 in /usr/local/lib/python3.10/dist-packages (from matplotlib>=1.4.0->scikit-plot) (8.4.0)\n",
            "Requirement already satisfied: pyparsing>=2.3.1 in /usr/local/lib/python3.10/dist-packages (from matplotlib>=1.4.0->scikit-plot) (3.0.9)\n",
            "Requirement already satisfied: python-dateutil>=2.7 in /usr/local/lib/python3.10/dist-packages (from matplotlib>=1.4.0->scikit-plot) (2.8.2)\n",
            "Requirement already satisfied: threadpoolctl>=2.0.0 in /usr/local/lib/python3.10/dist-packages (from scikit-learn>=0.18->scikit-plot) (3.1.0)\n",
            "Requirement already satisfied: six>=1.5 in /usr/local/lib/python3.10/dist-packages (from python-dateutil>=2.7->matplotlib>=1.4.0->scikit-plot) (1.16.0)\n"
          ]
        }
      ]
    },
    {
      "cell_type": "code",
      "source": [
        "# Import the matplotlib.pyplot module \n",
        "import matplotlib.pyplot as plt\n",
        "\n",
        "# Import the scikitplot module\n",
        "import scikitplot as skplt\n",
        "\n",
        "# Plot the cumulative gains graph\n",
        "skplt.metrics.plot_cumulative_gain(y_test, pred) #replace targets_test by\n",
        "plt.show()"
      ],
      "metadata": {
        "colab": {
          "base_uri": "https://localhost:8080/",
          "height": 472
        },
        "id": "fR8nGgMYWguX",
        "outputId": "79076264-4a54-4752-ee16-8e16f2c29224"
      },
      "execution_count": 64,
      "outputs": [
        {
          "output_type": "display_data",
          "data": {
            "text/plain": [
              "<Figure size 640x480 with 1 Axes>"
            ],
            "image/png": "[encoded data removed]"
          },
          "metadata": {}
        }
      ]
    },
    {
      "cell_type": "markdown",
      "source": [
        "#### A random model\n",
        "In this exercise you will reconstruct the cumulative gains curve's baseline, that is, the cumulative gains curve of a random model.\n",
        "\n",
        "To do so, you need to construct random predictions. The plot_cumulative_gain method requires two values for these predictions: one for the target to be 0 and one for the target to be 1. These values should sum to one, so a valid list of predictions could for instance be [(0.02,0.98),(0.27,0.73),...,(0.09,0.91)].\n",
        "\n",
        "In Python, you can generate a random value between values a and b as follows:\n",
        "\n",
        "import random\n",
        "\n",
        "random_value = random.uniform(a,b)"
      ],
      "metadata": {
        "id": "0zzdzpwCLWpL"
      }
    },
    {
      "cell_type": "code",
      "source": [
        "# Import the modules\n",
        "import random\n",
        "import matplotlib.pyplot as plt\n",
        "\n",
        "# Generate random predictions\n",
        "random_predictions = [random.uniform(0,1) for _ in range(len(y_test))]\n",
        "\n",
        "# Adjust random predictions\n",
        "random_predictions = [(r, 1 - r) for r in random_predictions]\n",
        "\n",
        "# Plot the cumulative gains graph\n",
        "skplt.metrics.plot_cumulative_gain(y_test, random_predictions)\n",
        "plt.show()"
      ],
      "metadata": {
        "colab": {
          "base_uri": "https://localhost:8080/",
          "height": 472
        },
        "id": "u7EuhQtaMOPi",
        "outputId": "e6ccf810-a510-43ff-f047-8ac8d457df3a"
      },
      "execution_count": 65,
      "outputs": [
        {
          "output_type": "display_data",
          "data": {
            "text/plain": [
              "<Figure size 640x480 with 1 Axes>"
            ],
            "image/png": "[encoded data removed]"
          },
          "metadata": {}
        }
      ]
    },
    {
      "cell_type": "markdown",
      "source": [
        "#### Constructing the lift curve\n",
        "The lift curve is an evaluation curve that assesses the performance of your model. It shows how many times more than average the model reaches targets.\n",
        "\n",
        "To construct this curve, you can use the plot_lift_curve method in the scikitplot module and the matplotlib.pyplot module. As for each model evaluation metric or curve, you need the true target values on the one hand and the predictions on the other hand to construct the cumulative gains curve."
      ],
      "metadata": {
        "id": "33i6TJcjNw58"
      }
    },
    {
      "cell_type": "code",
      "source": [
        "# Import the matplotlib.pyplot module \n",
        "import matplotlib.pyplot as plt\n",
        "\n",
        "# Import the scikitplot module\n",
        "import scikitplot as skplt\n",
        "\n",
        "# Plot the lift curve\n",
        "skplt.metrics.plot_lift_curve(y_test, random_predictions)\n",
        "plt.show()"
      ],
      "metadata": {
        "colab": {
          "base_uri": "https://localhost:8080/",
          "height": 472
        },
        "id": "xe5_XfddN0JR",
        "outputId": "b1a60030-f972-4eae-ec87-04b77c4e5d39"
      },
      "execution_count": 66,
      "outputs": [
        {
          "output_type": "display_data",
          "data": {
            "text/plain": [
              "<Figure size 640x480 with 1 Axes>"
            ],
            "image/png": "[encoded data removed]"
          },
          "metadata": {}
        }
      ]
    },
    {
      "cell_type": "markdown",
      "source": [
        "#### A perfect model\n",
        "In this exercise you will reconstruct the lift curve of a perfect model. To do so, you need to construct perfect predictions.\n",
        "\n",
        "Recall that the plot_lift_curve method requires two values for the predictions argument: the first argument for the target to be 0 and the second one for the target to be 1."
      ],
      "metadata": {
        "id": "jN2X7KXTOeIK"
      }
    },
    {
      "cell_type": "code",
      "source": [
        "# Generate perfect predictions\n",
        "perfect_predictions = [(1-target , target) for target in y_test[\"target\"]]\n",
        "\n",
        "# Plot the lift curve\n",
        "skplt.metrics.plot_lift_curve(y_test, perfect_predictions)\n",
        "plt.show()"
      ],
      "metadata": {
        "colab": {
          "base_uri": "https://localhost:8080/",
          "height": 472
        },
        "id": "RrWishSJO7Lj",
        "outputId": "bfce6d7f-aa5f-4374-dd11-7e822e7055b1"
      },
      "execution_count": 67,
      "outputs": [
        {
          "output_type": "display_data",
          "data": {
            "text/plain": [
              "<Figure size 640x480 with 1 Axes>"
            ],
            "image/png": "[encoded data removed]"
          },
          "metadata": {}
        }
      ]
    },
    {
      "cell_type": "markdown",
      "source": [
        "You can observe that the lift is first 20, which is normal as there are 5% targets: you can only have 20 times more than average targets. After that the lift gradually decreases because there are no targets to add anymore."
      ],
      "metadata": {
        "id": "xzrDhrl5PHQF"
      }
    },
    {
      "cell_type": "markdown",
      "source": [
        "#### Business case using lift curve\n",
        "In the video you learned to implement a method that calculates the profit of a campaign:\n",
        "\n",
        "profit = profit(perc_targets, perc_selected, population_size, campaign_cost, campaign_reward)\n",
        "\n",
        "In this method, perc_targets is the percentage of targets in the group that you select for your campaign, perc_selected the percentage of people that is selected for the campaign, population_size the total population size, campaign_cost the cost of addressing a single person for the campaign, and campaign_reward the reward of addressing a target.\n",
        "\n",
        "In this exercise you will learn for a specific case whether it is useful to use a model, by comparing the profit that is made when addressing all donors versus the top 40% of the donors."
      ],
      "metadata": {
        "id": "g5g0yoPyamdq"
      }
    },
    {
      "cell_type": "code",
      "source": [
        "# Plot the lift graph\n",
        "skplt.metrics.plot_lift_curve(y_test, perfect_predictions)\n",
        "plt.show()\n",
        "\n",
        "# Read the lift at 40% (round it up to the upper tenth)\n",
        "perc_selected = 0.4\n",
        "lift = 1.5\n",
        "\n",
        "# Information about the campaign\n",
        "population_size, target_incidence, campaign_cost, campaign_reward = 100000, 0.01, 1, 100\n",
        "\n",
        "# Profit in function of the percentage of targets and percentage of population reached\n",
        "def profit(perc_targets, perc_selected, population_size, campaign_cost, campaign_reward):\n",
        "    cost = perc_selected * population_size * campaign_cost\n",
        "    reward = perc_targets * perc_selected * population_size * campaign_reward\n",
        "    return(reward - cost)\n",
        "        \n",
        "# Profit if all donors are targeted\n",
        "profit_all = profit(target_incidence, 1, population_size, campaign_cost, campaign_reward)\n",
        "print(profit_all)\n",
        "\n",
        "# Profit if top 40% of donors are targeted\n",
        "profit_40 = profit(lift * target_incidence, 0.4, population_size, campaign_cost, campaign_reward)\n",
        "print(profit_40)"
      ],
      "metadata": {
        "colab": {
          "base_uri": "https://localhost:8080/",
          "height": 507
        },
        "id": "zbzqhPkIdvkb",
        "outputId": "9f0c99fe-b769-4625-8e8f-0bf85bac9849"
      },
      "execution_count": 68,
      "outputs": [
        {
          "output_type": "display_data",
          "data": {
            "text/plain": [
              "<Figure size 640x480 with 1 Axes>"
            ],
            "image/png": "[encoded data removed]"
          },
          "metadata": {}
        },
        {
          "output_type": "stream",
          "name": "stdout",
          "text": [
            "0.0\n",
            "20000.0\n"
          ]
        }
      ]
    },
    {
      "cell_type": "markdown",
      "source": [
        "When addressing the entire donor base, you do not make any profit at all. When using the predictive model, you can make 20,000 Euro profit!"
      ],
      "metadata": {
        "id": "5JrZJEUBeBNs"
      }
    },
    {
      "cell_type": "markdown",
      "source": [
        "#### Business case using cumulative gains curve\n",
        "The cumulative gains graph can be used to estimate how many donors one should address to make a certain profit. Indeed, the cumulative gains graph shows which percentage of all targets is reached when addressing a certain percentage of the population. If one knows the reward of a campaign, it follows easily how many donors should be targeted to reach a certain profit.\n",
        "\n",
        "In this exercise, you will calculate how many donors you should address to obtain a 30 000 Euro profit."
      ],
      "metadata": {
        "id": "UYV2-NZmeI60"
      }
    },
    {
      "cell_type": "code",
      "source": [
        "# O GRÁFICA ESTÁ DIFERENTE DA DATACAMP*******\n",
        "# Plot the cumulative gains\n",
        "skplt.metrics.plot_cumulative_gain(y_test, perfect_predictions)\n",
        "plt.show()\n",
        "\n",
        "# Information about the campaign\n",
        "population_size = 10000\n",
        "target_incidence = 0.10\n",
        "\n",
        "# Number of targets you want to reach\n",
        "number_targets_toreach = 30000 / 50\n",
        "perc_targets_toreach = number_targets_toreach / (target_incidence*population_size)\n",
        "cumulative_gains = 0.4\n",
        "number_donors_toreach = cumulative_gains * population_size"
      ],
      "metadata": {
        "colab": {
          "base_uri": "https://localhost:8080/",
          "height": 472
        },
        "id": "wyUbcL0YeMgC",
        "outputId": "c0c4ed49-19e7-4c33-eb2c-e9c633e1868e"
      },
      "execution_count": 69,
      "outputs": [
        {
          "output_type": "display_data",
          "data": {
            "text/plain": [
              "<Figure size 640x480 with 1 Axes>"
            ],
            "image/png": "[encoded data removed]"
          },
          "metadata": {}
        }
      ]
    },
    {
      "cell_type": "markdown",
      "source": [
        "It looks like you need to address 4,000 donors!"
      ],
      "metadata": {
        "id": "rXbOeewDg4BK"
      }
    },
    {
      "cell_type": "markdown",
      "source": [
        "#### Retrieving information from the predictor insight table\n",
        "The predictor insight graph table contains all the information needed to construct the predictor insight graph. For each value the predictor takes, it has the number of observations with this value and the target incidence within this group. The predictor insight graph table of the predictor Country is loaded as a pandas object pig_table. You can access elements using indexing. For instance, to retrieve the target incidence of donors living in the UK, you can use:\n",
        "\n",
        "pig_table[\"Incidence\"][pig_table[\"Country\"]==\"UK\"]"
      ],
      "metadata": {
        "id": "21JOFkdrw5y2"
      }
    },
    {
      "cell_type": "code",
      "source": [
        "# Create a dataframe\n",
        "pig_table = pd.DataFrame({'Country':['India','UK','USA'], 'Size':[49849,10057,40094], 'Incidence':[0.05,0.05,0.05]})\n",
        "pig_table"
      ],
      "metadata": {
        "colab": {
          "base_uri": "https://localhost:8080/",
          "height": 143
        },
        "id": "8Ri3mylph900",
        "outputId": "de793795-4946-43ef-f24d-f867dafaa8d4"
      },
      "execution_count": 70,
      "outputs": [
        {
          "output_type": "execute_result",
          "data": {
            "text/plain": [
              "  Country   Size  Incidence\n",
              "0   India  49849       0.05\n",
              "1      UK  10057       0.05\n",
              "2     USA  40094       0.05"
            ],
            "text/html": [
              "\n",
              "  <div id=\"df-967d0814-ef2d-42a6-bb6c-0aac5ed738ea\">\n",
              "    <div class=\"colab-df-container\">\n",
              "      <div>\n",
              "<style scoped>\n",
              "    .dataframe tbody tr th:only-of-type {\n",
              "        vertical-align: middle;\n",
              "    }\n",
              "\n",
              "    .dataframe tbody tr th {\n",
              "        vertical-align: top;\n",
              "    }\n",
              "\n",
              "    .dataframe thead th {\n",
              "        text-align: right;\n",
              "    }\n",
              "</style>\n",
              "<table border=\"1\" class=\"dataframe\">\n",
              "  <thead>\n",
              "    <tr style=\"text-align: right;\">\n",
              "      <th></th>\n",
              "      <th>Country</th>\n",
              "      <th>Size</th>\n",
              "      <th>Incidence</th>\n",
              "    </tr>\n",
              "  </thead>\n",
              "  <tbody>\n",
              "    <tr>\n",
              "      <th>0</th>\n",
              "      <td>India</td>\n",
              "      <td>49849</td>\n",
              "      <td>0.05</td>\n",
              "    </tr>\n",
              "    <tr>\n",
              "      <th>1</th>\n",
              "      <td>UK</td>\n",
              "      <td>10057</td>\n",
              "      <td>0.05</td>\n",
              "    </tr>\n",
              "    <tr>\n",
              "      <th>2</th>\n",
              "      <td>USA</td>\n",
              "      <td>40094</td>\n",
              "      <td>0.05</td>\n",
              "    </tr>\n",
              "  </tbody>\n",
              "</table>\n",
              "</div>\n",
              "      <button class=\"colab-df-convert\" onclick=\"convertToInteractive('df-967d0814-ef2d-42a6-bb6c-0aac5ed738ea')\"\n",
              "              title=\"Convert this dataframe to an interactive table.\"\n",
              "              style=\"display:none;\">\n",
              "        \n",
              "  <svg xmlns=\"http://www.w3.org/2000/svg\" height=\"24px\"viewBox=\"0 0 24 24\"\n",
              "       width=\"24px\">\n",
              "    <path d=\"M0 0h24v24H0V0z\" fill=\"none\"/>\n",
              "    <path d=\"M18.56 5.44l.94 2.06.94-2.06 2.06-.94-2.06-.94-.94-2.06-.94 2.06-2.06.94zm-11 1L8.5 8.5l.94-2.06 2.06-.94-2.06-.94L8.5 2.5l-.94 2.06-2.06.94zm10 10l.94 2.06.94-2.06 2.06-.94-2.06-.94-.94-2.06-.94 2.06-2.06.94z\"/><path d=\"M17.41 7.96l-1.37-1.37c-.4-.4-.92-.59-1.43-.59-.52 0-1.04.2-1.43.59L10.3 9.45l-7.72 7.72c-.78.78-.78 2.05 0 2.83L4 21.41c.39.39.9.59 1.41.59.51 0 1.02-.2 1.41-.59l7.78-7.78 2.81-2.81c.8-.78.8-2.07 0-2.86zM5.41 20L4 18.59l7.72-7.72 1.47 1.35L5.41 20z\"/>\n",
              "  </svg>\n",
              "      </button>\n",
              "      \n",
              "  <style>\n",
              "    .colab-df-container {\n",
              "      display:flex;\n",
              "      flex-wrap:wrap;\n",
              "      gap: 12px;\n",
              "    }\n",
              "\n",
              "    .colab-df-convert {\n",
              "      background-color: #E8F0FE;\n",
              "      border: none;\n",
              "      border-radius: 50%;\n",
              "      cursor: pointer;\n",
              "      display: none;\n",
              "      fill: #1967D2;\n",
              "      height: 32px;\n",
              "      padding: 0 0 0 0;\n",
              "      width: 32px;\n",
              "    }\n",
              "\n",
              "    .colab-df-convert:hover {\n",
              "      background-color: #E2EBFA;\n",
              "      box-shadow: 0px 1px 2px rgba(60, 64, 67, 0.3), 0px 1px 3px 1px rgba(60, 64, 67, 0.15);\n",
              "      fill: #174EA6;\n",
              "    }\n",
              "\n",
              "    [theme=dark] .colab-df-convert {\n",
              "      background-color: #3B4455;\n",
              "      fill: #D2E3FC;\n",
              "    }\n",
              "\n",
              "    [theme=dark] .colab-df-convert:hover {\n",
              "      background-color: #434B5C;\n",
              "      box-shadow: 0px 1px 3px 1px rgba(0, 0, 0, 0.15);\n",
              "      filter: drop-shadow(0px 1px 2px rgba(0, 0, 0, 0.3));\n",
              "      fill: #FFFFFF;\n",
              "    }\n",
              "  </style>\n",
              "\n",
              "      <script>\n",
              "        const buttonEl =\n",
              "          document.querySelector('#df-967d0814-ef2d-42a6-bb6c-0aac5ed738ea button.colab-df-convert');\n",
              "        buttonEl.style.display =\n",
              "          google.colab.kernel.accessAllowed ? 'block' : 'none';\n",
              "\n",
              "        async function convertToInteractive(key) {\n",
              "          const element = document.querySelector('#df-967d0814-ef2d-42a6-bb6c-0aac5ed738ea');\n",
              "          const dataTable =\n",
              "            await google.colab.kernel.invokeFunction('convertToInteractive',\n",
              "                                                     [key], {});\n",
              "          if (!dataTable) return;\n",
              "\n",
              "          const docLinkHtml = 'Like what you see? Visit the ' +\n",
              "            '<a target=\"_blank\" href=https://colab.research.google.com/notebooks/data_table.ipynb>data table notebook</a>'\n",
              "            + ' to learn more about interactive tables.';\n",
              "          element.innerHTML = '';\n",
              "          dataTable['output_type'] = 'display_data';\n",
              "          await google.colab.output.renderOutput(dataTable, element);\n",
              "          const docLink = document.createElement('div');\n",
              "          docLink.innerHTML = docLinkHtml;\n",
              "          element.appendChild(docLink);\n",
              "        }\n",
              "      </script>\n",
              "    </div>\n",
              "  </div>\n",
              "  "
            ]
          },
          "metadata": {},
          "execution_count": 70
        }
      ]
    },
    {
      "cell_type": "code",
      "source": [
        "# Inspect the predictor insight graph table of Country\n",
        "print(pig_table)\n",
        "\n",
        "# Print the number of UK donors\n",
        "print(pig_table[\"Size\"][pig_table[\"Country\"]==\"UK\"])\n",
        "\n",
        "# Check the target incidence of USA and India donors\n",
        "print(pig_table[\"Incidence\"][pig_table[\"Country\"]==\"USA\"])\n",
        "print(pig_table[\"Incidence\"][pig_table[\"Country\"]==\"India\"])"
      ],
      "metadata": {
        "colab": {
          "base_uri": "https://localhost:8080/"
        },
        "id": "Jdky7nnLic3Y",
        "outputId": "f3810b25-0255-4d51-8c3b-a6b6b3a13908"
      },
      "execution_count": 71,
      "outputs": [
        {
          "output_type": "stream",
          "name": "stdout",
          "text": [
            "  Country   Size  Incidence\n",
            "0   India  49849       0.05\n",
            "1      UK  10057       0.05\n",
            "2     USA  40094       0.05\n",
            "1    10057\n",
            "Name: Size, dtype: int64\n",
            "2    0.05\n",
            "Name: Incidence, dtype: float64\n",
            "0    0.05\n",
            "Name: Incidence, dtype: float64\n"
          ]
        }
      ]
    },
    {
      "cell_type": "markdown",
      "source": [
        "The target incidence of USA and India donors is the same, indicating that country is not a good variable to predict donations."
      ],
      "metadata": {
        "id": "KpM3LCOTiqAZ"
      }
    },
    {
      "cell_type": "markdown",
      "source": [
        "###Discretization of a certain variable\n",
        "In order to make predictor insight graphs for continuous variables, you first need to discretize them. In Python, you can discretize pandas columns using the qcut method.\n",
        "\n",
        "To check whether the variable was nicely discretized, you can verify that the bins have equal size using the groupby method:\n",
        "\n",
        "print(basetable.groupby(\"discretized_variable\").size()"
      ],
      "metadata": {
        "id": "B6nBQoPyjj7f"
      }
    },
    {
      "cell_type": "code",
      "source": [
        "# Discretize the variable time_since_last_donation in 10 bins\n",
        "basetable[\"bins_recency\"] = pd.qcut(basetable['time_since_last_gift'],10)\n",
        "\n",
        "# Print the group sizes of the discretized variable\n",
        "print(basetable.groupby(\"bins_recency\").size())"
      ],
      "metadata": {
        "colab": {
          "base_uri": "https://localhost:8080/"
        },
        "id": "EAh9WffZjmc4",
        "outputId": "ae35193f-9eb5-4a6b-e8c7-23c3733efcca"
      },
      "execution_count": 72,
      "outputs": [
        {
          "output_type": "stream",
          "name": "stdout",
          "text": [
            "bins_recency\n",
            "(31.999, 315.0]     2509\n",
            "(315.0, 459.0]      2492\n",
            "(459.0, 571.0]      2506\n",
            "(571.0, 656.0]      2538\n",
            "(656.0, 736.0]      2461\n",
            "(736.0, 832.0]      2501\n",
            "(832.0, 931.0]      2507\n",
            "(931.0, 1047.0]     2499\n",
            "(1047.0, 1211.0]    2498\n",
            "(1211.0, 2305.0]    2489\n",
            "dtype: int64\n"
          ]
        }
      ]
    },
    {
      "cell_type": "markdown",
      "source": [
        "The variable is binned in 10 bins that have each about 10 000 observations in it!"
      ],
      "metadata": {
        "id": "IvKYcs3ckah1"
      }
    },
    {
      "cell_type": "markdown",
      "source": [
        "#### Making clean cuts\n",
        "The qcut method divides the variable in n_bins equal bins. In some cases, however, it is nice to choose your own bins. The method cut in python allows you to choose your own bins."
      ],
      "metadata": {
        "id": "tbz_onUDofn0"
      }
    },
    {
      "cell_type": "code",
      "source": [
        "# Discretize the variable \n",
        "basetable[\"disc_number_gift\"] = pd.cut(basetable['number_gift'],[0,5,10, 20])\n",
        "\n",
        "# Count the number of observations per group\n",
        "print(basetable.groupby(\"disc_number_gift\").size())"
      ],
      "metadata": {
        "id": "YUbdFqxmo4P7",
        "colab": {
          "base_uri": "https://localhost:8080/"
        },
        "outputId": "ffe64f60-3506-4a96-d325-1d0dc762c1bc"
      },
      "execution_count": 73,
      "outputs": [
        {
          "output_type": "stream",
          "name": "stdout",
          "text": [
            "disc_number_gift\n",
            "(0, 5]      13808\n",
            "(5, 10]     10220\n",
            "(10, 20]      972\n",
            "dtype: int64\n"
          ]
        }
      ]
    },
    {
      "cell_type": "markdown",
      "source": [
        "Notice that the bins aren't approximately equally sized anymore."
      ],
      "metadata": {
        "id": "pQMW8S3hpMSe"
      }
    }
  ]
}